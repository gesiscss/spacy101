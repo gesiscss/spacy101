{
 "cells": [
  {
   "cell_type": "markdown",
   "metadata": {},
   "source": [
    "# Intro to NLP with spaCy\n",
    "\n",
    "This notebook is a hands-on introduction to NLP with [spaCy](https://spacy.io/), a library by [explosion.ai](https://explosion.ai/). \n",
    "\n",
    "> spaCy is a free, open-source library for advanced Natural Language Processing (NLP) in Python.\n",
    "\n",
    "spaCy helps you\n",
    "- work with a lot of text _(corpus)_\n",
    "- preprocess text\n",
    "- extract information, like\n",
    "    - what is the corpus about? \n",
    "    - which texts are similar to each other?\n",
    "    - which people, companies, countries etc. are mentioned? \n",
    "    - who says what to whom?\n",
    "\n",
    "spaCy handles many tasks commonly associated with building an end-to-end natural language processing pipeline:\n",
    "- tokenization and sentence boundary detection\n",
    "- normalization (lowercasing, stemming/lemmatization...)\n",
    "- POS tagging\n",
    "- dependency parsing\n",
    "- NER\n",
    "\n",
    "Why spaCy?\n",
    "- batteries included (stopwords, token probabilities, word vectors)\n",
    "- easy scaling from prototyping to deployment\n",
    "- visualization\n",
    "\n",
    "spaCy (out of the box) is not for:\n",
    "- downstream tasks (topic modeling, classification, chatbots, ...)\n",
    "- niche preprocessing tasks (coreference resolution, ...)\n",
    "- ...\n",
    "- but, these use cases can be addressed with plug-ins and extensions\n",
    "\n"
   ]
  },
  {
   "cell_type": "markdown",
   "metadata": {},
   "source": [
    "## 1. Getting started\n",
    "\n",
    "### 1.1. Setup\n",
    "\n",
    "You need two things to run spaCy:\n",
    "- the python library spaCy itself (which defines how your programming interface)\n",
    "- a trained model for the language of choice (which performs e.g. tagging and parsing)"
   ]
  },
  {
   "cell_type": "code",
   "execution_count": null,
   "metadata": {},
   "outputs": [],
   "source": [
    "# !pip3 install spacy"
   ]
  },
  {
   "cell_type": "code",
   "execution_count": null,
   "metadata": {
    "scrolled": false
   },
   "outputs": [],
   "source": [
    "# !python3 -m spacy download en_core_web_sm"
   ]
  },
  {
   "cell_type": "markdown",
   "metadata": {},
   "source": [
    "It is two commands instead of one. However, with this comes great benefit. Namely, with a one-word difference in your import statements, you can swap the model that you want to use.\n",
    "\n",
    "For example you can use a smaller but quicker model for prototyping, and swap it for a larger, more accurate model for production. \n",
    "\n",
    "Before you run spacy, you have to import it and load the model."
   ]
  },
  {
   "cell_type": "code",
   "execution_count": 182,
   "metadata": {},
   "outputs": [],
   "source": [
    "import spacy\n",
    "nlp = spacy.load('en_core_web_sm')"
   ]
  },
  {
   "cell_type": "markdown",
   "metadata": {},
   "source": [
    "Case in point, you can download a more sophisticated (but space- and memory-hungry, and slower) model and load it instead of the smaller one. Suffixes sm, md, lg give you a hint of the size of the model. You can find the models available on the website."
   ]
  },
  {
   "cell_type": "code",
   "execution_count": null,
   "metadata": {},
   "outputs": [],
   "source": [
    "# !python3 -m spacy download en_core_web_md"
   ]
  },
  {
   "cell_type": "markdown",
   "metadata": {},
   "source": [
    "BTW, you can also load the model directly"
   ]
  },
  {
   "cell_type": "code",
   "execution_count": 183,
   "metadata": {},
   "outputs": [],
   "source": [
    "import en_core_web_md\n",
    "nlp = en_core_web_md.load()"
   ]
  },
  {
   "cell_type": "markdown",
   "metadata": {},
   "source": [
    "a few other libraries and imports"
   ]
  },
  {
   "cell_type": "code",
   "execution_count": null,
   "metadata": {
    "scrolled": true
   },
   "outputs": [],
   "source": [
    "# !pip install matplotlib pandas bs4"
   ]
  },
  {
   "cell_type": "code",
   "execution_count": 124,
   "metadata": {},
   "outputs": [
    {
     "name": "stdout",
     "output_type": "stream",
     "text": [
      "Populating the interactive namespace from numpy and matplotlib\n"
     ]
    }
   ],
   "source": [
    "import spacy\n",
    "from spacy import displacy\n",
    "import pandas as pd\n",
    "import re\n",
    "from bs4 import BeautifulSoup\n",
    "from collections import Counter\n",
    "from itertools import islice\n",
    "import numpy as np\n",
    "%pylab inline"
   ]
  },
  {
   "cell_type": "markdown",
   "metadata": {},
   "source": [
    "### 1.2 Using spacy"
   ]
  },
  {
   "cell_type": "markdown",
   "metadata": {},
   "source": [
    "This is a normal python string"
   ]
  },
  {
   "cell_type": "code",
   "execution_count": 125,
   "metadata": {},
   "outputs": [
    {
     "data": {
      "text/plain": [
       "'Why does Donald Trump always wear black suits? Because he is mourning for his brain.'"
      ]
     },
     "execution_count": 125,
     "metadata": {},
     "output_type": "execute_result"
    }
   ],
   "source": [
    "doc = \"Why does Donald Trump always wear black suits? Because he is mourning for his brain.\"\n",
    "doc"
   ]
  },
  {
   "cell_type": "markdown",
   "metadata": {},
   "source": [
    "This is a string on spaCy"
   ]
  },
  {
   "cell_type": "code",
   "execution_count": 126,
   "metadata": {},
   "outputs": [
    {
     "data": {
      "text/plain": [
       "Why does Donald Trump always wear black suits? Because he is mourning for his brain."
      ]
     },
     "execution_count": 126,
     "metadata": {},
     "output_type": "execute_result"
    }
   ],
   "source": [
    "spacy_doc = nlp(doc)\n",
    "spacy_doc"
   ]
  },
  {
   "cell_type": "markdown",
   "metadata": {},
   "source": [
    "They look mostly the same on the surface, but the spaCy version is much richer in information and easier to handle in an intuitive way. What happened in the call above, is that spaCy applied a whole host of taggers and indexing to the string, so that the information that is typically needed in text mangling is readily available.\n",
    "\n",
    "For example, spaCy has already split the string into words. One instance of a word is called token. If you iterate over the document you get its tokens:"
   ]
  },
  {
   "cell_type": "code",
   "execution_count": 127,
   "metadata": {},
   "outputs": [
    {
     "name": "stdout",
     "output_type": "stream",
     "text": [
      "Why\n",
      "does\n",
      "Donald\n",
      "Trump\n",
      "always\n",
      "wear\n",
      "black\n",
      "suits\n",
      "?\n",
      "Because\n",
      "he\n",
      "is\n",
      "mourning\n",
      "for\n",
      "his\n",
      "brain\n",
      ".\n"
     ]
    }
   ],
   "source": [
    "for token in spacy_doc:\n",
    "    print(token)"
   ]
  },
  {
   "cell_type": "markdown",
   "metadata": {},
   "source": [
    "Similarly, spaCy has already identified the sentences that make up the larger string, and stored (links to) them in an attribute of the document."
   ]
  },
  {
   "cell_type": "code",
   "execution_count": 128,
   "metadata": {},
   "outputs": [
    {
     "name": "stdout",
     "output_type": "stream",
     "text": [
      "Why does Donald Trump always wear black suits?\n",
      "Because he is mourning for his brain.\n"
     ]
    }
   ],
   "source": [
    "for sentence in spacy_doc.sents:\n",
    "    print(sentence)"
   ]
  },
  {
   "cell_type": "markdown",
   "metadata": {},
   "source": [
    "Sentence and word tokenization are almost invariably a step in text analysis. SpaCy gives instant access to the final product of several \"boilerplate\" steps of computation. \n",
    "\n",
    "However, spaCy also gives you to less trivial annotations of a string, such as identifying groups of words that make up what we would identify as a person:"
   ]
  },
  {
   "cell_type": "code",
   "execution_count": 129,
   "metadata": {},
   "outputs": [
    {
     "data": {
      "text/plain": [
       "(Donald Trump,)"
      ]
     },
     "execution_count": 129,
     "metadata": {},
     "output_type": "execute_result"
    }
   ],
   "source": [
    "spacy_doc.ents"
   ]
  },
  {
   "cell_type": "markdown",
   "metadata": {},
   "source": [
    "## 2 How spaCy represents text (data structures)"
   ]
  },
  {
   "cell_type": "markdown",
   "metadata": {},
   "source": [
    "There are three \"granularities\" in spaCy:\n",
    "- the document, the largest cohesive unit of observation that you make spaCy parse\n",
    "- the span, a contiguous subsequence of tokens within a document\n",
    "- the token, a single instance of a word"
   ]
  },
  {
   "cell_type": "code",
   "execution_count": 130,
   "metadata": {},
   "outputs": [
    {
     "name": "stdout",
     "output_type": "stream",
     "text": [
      "Why does Donald Trump always wear black suits? Because he is mourning for his brain. <class 'spacy.tokens.doc.Doc'>\n",
      "Why does Donald Trump always wear black suits? Because he is mourning for his brain. <class 'spacy.tokens.span.Span'>\n",
      "Why <class 'spacy.tokens.token.Token'>\n"
     ]
    }
   ],
   "source": [
    "print(spacy_doc, type(spacy_doc), )\n",
    "print(spacy_doc[:], type(spacy_doc[:]),)\n",
    "print(spacy_doc[0], type(spacy_doc[0]), )\n"
   ]
  },
  {
   "cell_type": "markdown",
   "metadata": {},
   "source": [
    "Note that the second object is a span, even if it has all of the tokens in the document. Since we accessed it as a sequence, it is returned to us as a span. You might have guessed: sentences are spans too."
   ]
  },
  {
   "cell_type": "code",
   "execution_count": 131,
   "metadata": {},
   "outputs": [
    {
     "data": {
      "text/plain": [
       "spacy.tokens.span.Span"
      ]
     },
     "execution_count": 131,
     "metadata": {},
     "output_type": "execute_result"
    }
   ],
   "source": [
    "type(list(spacy_doc.sents)[0])"
   ]
  },
  {
   "cell_type": "markdown",
   "metadata": {},
   "source": [
    "### 2.1 Exploring tokens"
   ]
  },
  {
   "cell_type": "markdown",
   "metadata": {},
   "source": [
    "Most analyses focus on tokens. You can access tokens by direct index on the document or span."
   ]
  },
  {
   "cell_type": "code",
   "execution_count": 132,
   "metadata": {},
   "outputs": [],
   "source": [
    "token = spacy_doc[3]"
   ]
  },
  {
   "cell_type": "markdown",
   "metadata": {},
   "source": [
    "SpaCy provides a host of information about a token, e.g. if it is a number, punctuation, letter, stopword, ..."
   ]
  },
  {
   "cell_type": "code",
   "execution_count": 133,
   "metadata": {
    "scrolled": true
   },
   "outputs": [
    {
     "data": {
      "text/plain": [
       "['ancestors',\n",
       " 'check_flag',\n",
       " 'children',\n",
       " 'cluster',\n",
       " 'conjuncts',\n",
       " 'dep',\n",
       " 'dep_',\n",
       " 'doc',\n",
       " 'ent_id',\n",
       " 'ent_id_',\n",
       " 'ent_iob',\n",
       " 'ent_iob_',\n",
       " 'ent_kb_id',\n",
       " 'ent_kb_id_',\n",
       " 'ent_type',\n",
       " 'ent_type_',\n",
       " 'get_extension',\n",
       " 'has_extension',\n",
       " 'has_vector',\n",
       " 'head',\n",
       " 'i',\n",
       " 'idx',\n",
       " 'is_alpha',\n",
       " 'is_ancestor',\n",
       " 'is_ascii',\n",
       " 'is_bracket',\n",
       " 'is_currency',\n",
       " 'is_digit',\n",
       " 'is_left_punct',\n",
       " 'is_lower',\n",
       " 'is_oov',\n",
       " 'is_punct',\n",
       " 'is_quote',\n",
       " 'is_right_punct',\n",
       " 'is_sent_end',\n",
       " 'is_sent_start',\n",
       " 'is_space',\n",
       " 'is_stop',\n",
       " 'is_title',\n",
       " 'is_upper',\n",
       " 'lang',\n",
       " 'lang_',\n",
       " 'left_edge',\n",
       " 'lefts',\n",
       " 'lemma',\n",
       " 'lemma_',\n",
       " 'lex_id',\n",
       " 'like_email',\n",
       " 'like_num',\n",
       " 'like_url',\n",
       " 'lower',\n",
       " 'lower_',\n",
       " 'morph',\n",
       " 'n_lefts',\n",
       " 'n_rights',\n",
       " 'nbor',\n",
       " 'norm',\n",
       " 'norm_',\n",
       " 'orth',\n",
       " 'orth_',\n",
       " 'pos',\n",
       " 'pos_',\n",
       " 'prefix',\n",
       " 'prefix_',\n",
       " 'prob',\n",
       " 'rank',\n",
       " 'remove_extension',\n",
       " 'right_edge',\n",
       " 'rights',\n",
       " 'sent',\n",
       " 'sent_start',\n",
       " 'sentiment',\n",
       " 'set_extension',\n",
       " 'shape',\n",
       " 'shape_',\n",
       " 'similarity',\n",
       " 'string',\n",
       " 'subtree',\n",
       " 'suffix',\n",
       " 'suffix_',\n",
       " 'tag',\n",
       " 'tag_',\n",
       " 'tensor',\n",
       " 'text',\n",
       " 'text_with_ws',\n",
       " 'vector',\n",
       " 'vector_norm',\n",
       " 'vocab',\n",
       " 'whitespace_']"
      ]
     },
     "execution_count": 133,
     "metadata": {},
     "output_type": "execute_result"
    }
   ],
   "source": [
    "list(filter(lambda x: not x.startswith(\"_\"),  dir(token)))"
   ]
  },
  {
   "cell_type": "markdown",
   "metadata": {},
   "source": [
    "That is a lot of information, it is easy to get lost. SpaCy offers a few pointers to position yourself, such as links to the original document the token belongs to:"
   ]
  },
  {
   "cell_type": "code",
   "execution_count": 134,
   "metadata": {},
   "outputs": [
    {
     "data": {
      "text/plain": [
       "Why does Donald Trump always wear black suits? Because he is mourning for his brain."
      ]
     },
     "execution_count": 134,
     "metadata": {},
     "output_type": "execute_result"
    }
   ],
   "source": [
    "token.doc"
   ]
  },
  {
   "cell_type": "markdown",
   "metadata": {},
   "source": [
    "or positional index within the document (the token is in the i-th position of its document)"
   ]
  },
  {
   "cell_type": "code",
   "execution_count": 135,
   "metadata": {},
   "outputs": [],
   "source": [
    "assert token == spacy_doc[token.i]"
   ]
  },
  {
   "cell_type": "markdown",
   "metadata": {},
   "source": [
    "also, spaCy has a few ways of representing the token's string"
   ]
  },
  {
   "cell_type": "code",
   "execution_count": 187,
   "metadata": {},
   "outputs": [
    {
     "data": {
      "text/plain": [
       "('wear', 'wear ', 'wear', 'wear', ' ')"
      ]
     },
     "execution_count": 187,
     "metadata": {},
     "output_type": "execute_result"
    }
   ],
   "source": [
    "token.text, token.string, token.orth_, token.lemma_, token.whitespace_"
   ]
  },
  {
   "cell_type": "markdown",
   "metadata": {},
   "source": [
    "one convention that is useful to know is that for many tags, there are two versions:\n",
    "- with an undescore, when the value is a human-readable label, e.g. pos_\n",
    "- without the underscore, when the value is an integer, e.g. pos\n",
    "\n",
    "Having integer representation for the tags makes for more efficient code but less accessible to debugging. spaCy gives you the choice, and makes it easy to switch from one representation to the other"
   ]
  },
  {
   "cell_type": "code",
   "execution_count": 137,
   "metadata": {},
   "outputs": [
    {
     "data": {
      "text/plain": [
       "(96, 'PROPN')"
      ]
     },
     "execution_count": 137,
     "metadata": {},
     "output_type": "execute_result"
    }
   ],
   "source": [
    "token.pos, token.pos_"
   ]
  },
  {
   "cell_type": "markdown",
   "metadata": {},
   "source": [
    "Among the interesting information in a token, an interesting one is the (log) probability of the token in \"standard English\""
   ]
  },
  {
   "cell_type": "code",
   "execution_count": 138,
   "metadata": {},
   "outputs": [
    {
     "data": {
      "text/plain": [
       "-20.0"
      ]
     },
     "execution_count": 138,
     "metadata": {},
     "output_type": "execute_result"
    }
   ],
   "source": [
    "token.prob"
   ]
  },
  {
   "cell_type": "markdown",
   "metadata": {},
   "source": [
    "### 2.2 Word vectors"
   ]
  },
  {
   "cell_type": "markdown",
   "metadata": {},
   "source": [
    "spaCy also already offers word vectors for a large vocabulary"
   ]
  },
  {
   "cell_type": "code",
   "execution_count": 139,
   "metadata": {},
   "outputs": [
    {
     "data": {
      "text/plain": [
       "array([-4.2175e-01,  1.8711e-01,  3.4765e-01, -2.8588e-01, -8.3932e-02,\n",
       "        1.1277e-02,  2.1249e-02,  2.6343e-01,  2.2187e-01,  1.1753e+00,\n",
       "       -9.2204e-02, -6.5978e-01,  1.4032e-01,  1.9669e-01,  5.0662e-02,\n",
       "        1.1238e-01, -4.0031e-01, -3.4718e-01,  1.0501e-02,  1.9059e-01,\n",
       "        4.7089e-02,  1.2648e-01,  1.2395e-01, -1.4647e-01,  4.9865e-01,\n",
       "        9.0596e-02, -2.4599e-01, -8.2896e-02, -3.2482e-01, -1.5548e-03,\n",
       "        1.3087e-01,  2.1520e-01,  1.9742e-01,  1.2051e-01,  4.5222e-01,\n",
       "        4.4882e-01,  1.0680e-01,  1.3475e-02, -3.2072e-01,  6.2445e-02,\n",
       "       -4.8712e-01, -1.6536e-01, -2.8725e-01,  6.0925e-01, -1.3591e-01,\n",
       "        9.0801e-03, -2.9597e-01, -3.1342e-01,  1.7717e-02,  3.7069e-01,\n",
       "        1.5938e-01,  5.0631e-01, -3.2633e-03, -3.1040e-01, -5.2806e-01,\n",
       "        1.9271e-01,  8.9184e-02,  4.7455e-01,  4.1562e-02, -2.1373e-01,\n",
       "       -3.6329e-01,  3.6512e-01,  9.2584e-02, -5.3587e-01,  2.7139e-01,\n",
       "       -2.7306e-02, -6.8992e-02,  8.2103e-02,  2.1897e-02, -4.7422e-01,\n",
       "       -8.2076e-02,  9.6891e-02,  5.0067e-01,  3.6488e-01, -6.9029e-02,\n",
       "       -5.5823e-02, -1.4041e-01,  2.0366e-01,  1.8341e-01,  3.0023e-01,\n",
       "       -4.0206e-01, -1.6848e-01,  1.0981e-01,  3.3041e-01,  2.2164e-01,\n",
       "        3.4078e-01,  3.0367e-01, -1.7314e-01,  2.0866e-02, -5.0060e-01,\n",
       "       -3.4648e-01,  1.0505e-01, -2.8792e-01, -1.2982e-01,  3.4894e-01,\n",
       "       -2.9238e-01,  3.4991e-01,  1.9146e-01, -3.4376e-01,  8.5781e-03,\n",
       "        2.7653e-02,  1.0018e-02,  3.1870e-01,  3.1614e-01, -3.8035e-02,\n",
       "       -1.6582e+00, -9.2105e-02, -3.8924e-02, -3.0471e-01,  2.2002e-01,\n",
       "        4.8545e-01,  3.1739e-01, -1.8562e-01, -2.3046e-01,  4.6183e-01,\n",
       "        2.4666e-02,  3.5099e-01, -1.4219e-01,  2.3106e-01, -4.1459e-01,\n",
       "        3.1811e-02,  2.7204e-01, -1.9268e-01,  7.7654e-01, -1.6157e-01,\n",
       "        6.7347e-03, -3.5363e-01,  6.9163e-02, -3.0748e-01, -2.4021e-01,\n",
       "       -1.9117e-01,  4.2879e-02, -1.6129e-02, -6.1180e-01, -2.5197e-01,\n",
       "       -2.6410e-01,  1.0870e-01, -8.0083e-02, -8.6364e-02, -2.4056e-01,\n",
       "       -9.9507e-01,  3.4395e-02, -1.2520e-01,  1.1881e-01, -2.4440e-01,\n",
       "        1.3394e-01,  1.3732e-01,  3.4638e-01,  3.0239e-01,  8.7165e-02,\n",
       "        5.0108e-01, -6.1747e-01,  4.2844e-01,  3.7498e-01,  2.8815e-01,\n",
       "       -4.3111e-01, -6.8004e-01, -9.9601e-02, -2.0066e-01,  5.5751e-01,\n",
       "        2.9883e-01,  5.2554e-02, -3.5418e-01,  1.0617e-01, -2.1368e-01,\n",
       "       -2.3214e-01,  5.9335e-01, -1.0224e-01,  2.4222e-02,  1.2823e-01,\n",
       "       -6.7405e-01,  7.4106e-02,  7.4577e-01,  3.2601e-01,  5.1371e-01,\n",
       "        1.2145e-01,  1.9121e-01, -3.2106e-01,  1.5905e-01,  1.6715e-01,\n",
       "        2.0054e-01, -3.2313e-01,  4.4729e-01, -5.5856e-02,  2.7500e-01,\n",
       "        3.3805e-01,  1.5119e-01, -2.6632e-01,  4.7327e-03,  5.3266e-02,\n",
       "        1.7287e-01, -4.8475e-01, -7.7259e-02, -1.8441e-01,  2.5852e-01,\n",
       "        1.2288e-02, -3.3684e-01,  1.6398e-01,  2.6542e-01,  2.2127e-01,\n",
       "       -6.4270e-02, -4.8383e-01, -1.8630e-01, -3.2003e-01, -3.9254e-01,\n",
       "       -2.9031e-01, -2.2726e-01,  2.9515e-01,  2.5215e-01, -3.7215e-03,\n",
       "       -5.2100e-01,  4.1253e-01,  1.3188e-01,  2.6781e-01,  3.3395e-01,\n",
       "        4.0616e-01,  4.2701e-02, -4.0490e-02,  1.8101e-02,  1.1772e-01,\n",
       "       -3.9378e-01, -1.8028e-01, -3.8873e-01, -2.4354e-01,  1.1209e-01,\n",
       "       -1.0299e-01, -2.7283e-01,  2.9488e-01, -2.3536e-01,  9.8930e-02,\n",
       "        8.6139e-02,  7.0118e-02,  2.8129e-02, -4.4809e-01, -4.1640e-01,\n",
       "        2.6429e-02,  4.2930e-01, -3.0887e-01,  1.1238e-01, -1.2618e-01,\n",
       "        7.9624e-02, -2.2948e-01,  6.7513e-02, -1.8773e-01, -6.1122e-02,\n",
       "       -3.5994e-01, -6.4104e-02,  1.3646e-01, -1.3665e-01, -1.4591e-01,\n",
       "       -2.0899e-01,  1.6479e-01, -6.1316e-01, -5.2092e-01, -2.9891e-01,\n",
       "        1.2632e-01, -2.4632e-01, -2.5786e-01, -2.1388e-02, -4.3253e-01,\n",
       "        1.5186e-02,  1.4724e-01, -3.4728e-01,  1.5763e-01,  1.5016e-01,\n",
       "       -4.2161e-02,  1.5774e-01, -1.9835e-02, -2.3119e-01, -5.0471e-03,\n",
       "       -5.5374e-01,  2.9438e-01,  1.9619e-01,  6.0137e-01,  2.1243e-01,\n",
       "       -4.4214e-01,  1.5362e-01, -8.6260e-02, -3.9168e-02, -6.1137e-02,\n",
       "        2.8389e-01, -3.8840e-01,  2.2188e-01,  3.0302e-01, -7.6419e-02,\n",
       "        2.8784e-01, -5.7824e-01,  5.3565e-02, -1.9988e-02, -1.7654e-01,\n",
       "       -1.8096e-01,  3.0150e-01, -6.3588e-01, -1.5034e-01,  2.2338e-01,\n",
       "        7.8862e-01, -1.0651e-03, -5.2660e-01,  5.2599e-01,  2.3641e-01],\n",
       "      dtype=float32)"
      ]
     },
     "execution_count": 139,
     "metadata": {},
     "output_type": "execute_result"
    }
   ],
   "source": [
    "token.vector"
   ]
  },
  {
   "cell_type": "markdown",
   "metadata": {},
   "source": [
    "The vectors work the way one would assume"
   ]
  },
  {
   "cell_type": "code",
   "execution_count": 189,
   "metadata": {},
   "outputs": [
    {
     "data": {
      "text/plain": [
       "(Apples, oranges, Limes)"
      ]
     },
     "execution_count": 189,
     "metadata": {},
     "output_type": "execute_result"
    }
   ],
   "source": [
    "doc = nlp(u\"Apples and oranges are somewhat similar. Limes and oranges are more similar.\")\n",
    "\n",
    "apples = doc[0]\n",
    "oranges = doc[2]\n",
    "limes = doc[7]\n",
    "\n",
    "apples, oranges, limes"
   ]
  },
  {
   "cell_type": "code",
   "execution_count": 142,
   "metadata": {},
   "outputs": [
    {
     "data": {
      "text/plain": [
       "0.77809423"
      ]
     },
     "execution_count": 142,
     "metadata": {},
     "output_type": "execute_result"
    }
   ],
   "source": [
    "apples.similarity(oranges)"
   ]
  },
  {
   "cell_type": "code",
   "execution_count": 143,
   "metadata": {},
   "outputs": [
    {
     "data": {
      "text/plain": [
       "0.7997179"
      ]
     },
     "execution_count": 143,
     "metadata": {},
     "output_type": "execute_result"
    }
   ],
   "source": [
    "limes.similarity(oranges)"
   ]
  },
  {
   "cell_type": "markdown",
   "metadata": {},
   "source": [
    "for example, one can compute the similarity of apples and oranges, and of limes and oranges, and find out that limes are more similar to oranges than apples are."
   ]
  },
  {
   "cell_type": "markdown",
   "metadata": {},
   "source": [
    "### 2.3 Moving around the dependency tree"
   ]
  },
  {
   "cell_type": "markdown",
   "metadata": {},
   "source": [
    "Let's zoom out from the narrow view of the single token. Enough with the dull linear scanning of a sentence. Behold, the syntactic dependency parse."
   ]
  },
  {
   "cell_type": "code",
   "execution_count": 144,
   "metadata": {},
   "outputs": [
    {
     "data": {
      "text/html": [
       "<span class=\"tex2jax_ignore\"><svg xmlns=\"http://www.w3.org/2000/svg\" xmlns:xlink=\"http://www.w3.org/1999/xlink\" xml:lang=\"en\" id=\"076559cc2c31422298b33257b1c5a0cb-0\" class=\"displacy\" width=\"1250\" height=\"437.0\" direction=\"ltr\" style=\"max-width: none; height: 437.0px; color: white; background: #09a3d5; font-family: Arial; direction: ltr\">\n",
       "<text class=\"displacy-token\" fill=\"currentColor\" text-anchor=\"middle\" y=\"347.0\">\n",
       "    <tspan class=\"displacy-word\" fill=\"currentColor\" x=\"50\">Why</tspan>\n",
       "    <tspan class=\"displacy-tag\" dy=\"2em\" fill=\"currentColor\" x=\"50\">ADV</tspan>\n",
       "</text>\n",
       "\n",
       "<text class=\"displacy-token\" fill=\"currentColor\" text-anchor=\"middle\" y=\"347.0\">\n",
       "    <tspan class=\"displacy-word\" fill=\"currentColor\" x=\"200\">does</tspan>\n",
       "    <tspan class=\"displacy-tag\" dy=\"2em\" fill=\"currentColor\" x=\"200\">AUX</tspan>\n",
       "</text>\n",
       "\n",
       "<text class=\"displacy-token\" fill=\"currentColor\" text-anchor=\"middle\" y=\"347.0\">\n",
       "    <tspan class=\"displacy-word\" fill=\"currentColor\" x=\"350\">Donald</tspan>\n",
       "    <tspan class=\"displacy-tag\" dy=\"2em\" fill=\"currentColor\" x=\"350\">PROPN</tspan>\n",
       "</text>\n",
       "\n",
       "<text class=\"displacy-token\" fill=\"currentColor\" text-anchor=\"middle\" y=\"347.0\">\n",
       "    <tspan class=\"displacy-word\" fill=\"currentColor\" x=\"500\">Trump</tspan>\n",
       "    <tspan class=\"displacy-tag\" dy=\"2em\" fill=\"currentColor\" x=\"500\">PROPN</tspan>\n",
       "</text>\n",
       "\n",
       "<text class=\"displacy-token\" fill=\"currentColor\" text-anchor=\"middle\" y=\"347.0\">\n",
       "    <tspan class=\"displacy-word\" fill=\"currentColor\" x=\"650\">always</tspan>\n",
       "    <tspan class=\"displacy-tag\" dy=\"2em\" fill=\"currentColor\" x=\"650\">ADV</tspan>\n",
       "</text>\n",
       "\n",
       "<text class=\"displacy-token\" fill=\"currentColor\" text-anchor=\"middle\" y=\"347.0\">\n",
       "    <tspan class=\"displacy-word\" fill=\"currentColor\" x=\"800\">wear</tspan>\n",
       "    <tspan class=\"displacy-tag\" dy=\"2em\" fill=\"currentColor\" x=\"800\">VERB</tspan>\n",
       "</text>\n",
       "\n",
       "<text class=\"displacy-token\" fill=\"currentColor\" text-anchor=\"middle\" y=\"347.0\">\n",
       "    <tspan class=\"displacy-word\" fill=\"currentColor\" x=\"950\">black</tspan>\n",
       "    <tspan class=\"displacy-tag\" dy=\"2em\" fill=\"currentColor\" x=\"950\">ADJ</tspan>\n",
       "</text>\n",
       "\n",
       "<text class=\"displacy-token\" fill=\"currentColor\" text-anchor=\"middle\" y=\"347.0\">\n",
       "    <tspan class=\"displacy-word\" fill=\"currentColor\" x=\"1100\">suits?</tspan>\n",
       "    <tspan class=\"displacy-tag\" dy=\"2em\" fill=\"currentColor\" x=\"1100\">NOUN</tspan>\n",
       "</text>\n",
       "\n",
       "<g class=\"displacy-arrow\">\n",
       "    <path class=\"displacy-arc\" id=\"arrow-076559cc2c31422298b33257b1c5a0cb-0-0\" stroke-width=\"2px\" d=\"M62,302.0 62,202.0 800.0,202.0 800.0,302.0\" fill=\"none\" stroke=\"currentColor\"/>\n",
       "    <text dy=\"1.25em\" style=\"font-size: 0.8em; letter-spacing: 1px\">\n",
       "        <textPath xlink:href=\"#arrow-076559cc2c31422298b33257b1c5a0cb-0-0\" class=\"displacy-label\" startOffset=\"50%\" side=\"left\" fill=\"currentColor\" text-anchor=\"middle\">advmod</textPath>\n",
       "    </text>\n",
       "    <path class=\"displacy-arrowhead\" d=\"M62,304.0 L58,296.0 66,296.0\" fill=\"currentColor\"/>\n",
       "</g>\n",
       "\n",
       "<g class=\"displacy-arrow\">\n",
       "    <path class=\"displacy-arc\" id=\"arrow-076559cc2c31422298b33257b1c5a0cb-0-1\" stroke-width=\"2px\" d=\"M212,302.0 212,227.0 797.0,227.0 797.0,302.0\" fill=\"none\" stroke=\"currentColor\"/>\n",
       "    <text dy=\"1.25em\" style=\"font-size: 0.8em; letter-spacing: 1px\">\n",
       "        <textPath xlink:href=\"#arrow-076559cc2c31422298b33257b1c5a0cb-0-1\" class=\"displacy-label\" startOffset=\"50%\" side=\"left\" fill=\"currentColor\" text-anchor=\"middle\">aux</textPath>\n",
       "    </text>\n",
       "    <path class=\"displacy-arrowhead\" d=\"M212,304.0 L208,296.0 216,296.0\" fill=\"currentColor\"/>\n",
       "</g>\n",
       "\n",
       "<g class=\"displacy-arrow\">\n",
       "    <path class=\"displacy-arc\" id=\"arrow-076559cc2c31422298b33257b1c5a0cb-0-2\" stroke-width=\"2px\" d=\"M362,302.0 362,277.0 491.0,277.0 491.0,302.0\" fill=\"none\" stroke=\"currentColor\"/>\n",
       "    <text dy=\"1.25em\" style=\"font-size: 0.8em; letter-spacing: 1px\">\n",
       "        <textPath xlink:href=\"#arrow-076559cc2c31422298b33257b1c5a0cb-0-2\" class=\"displacy-label\" startOffset=\"50%\" side=\"left\" fill=\"currentColor\" text-anchor=\"middle\">compound</textPath>\n",
       "    </text>\n",
       "    <path class=\"displacy-arrowhead\" d=\"M362,304.0 L358,296.0 366,296.0\" fill=\"currentColor\"/>\n",
       "</g>\n",
       "\n",
       "<g class=\"displacy-arrow\">\n",
       "    <path class=\"displacy-arc\" id=\"arrow-076559cc2c31422298b33257b1c5a0cb-0-3\" stroke-width=\"2px\" d=\"M512,302.0 512,252.0 794.0,252.0 794.0,302.0\" fill=\"none\" stroke=\"currentColor\"/>\n",
       "    <text dy=\"1.25em\" style=\"font-size: 0.8em; letter-spacing: 1px\">\n",
       "        <textPath xlink:href=\"#arrow-076559cc2c31422298b33257b1c5a0cb-0-3\" class=\"displacy-label\" startOffset=\"50%\" side=\"left\" fill=\"currentColor\" text-anchor=\"middle\">nsubj</textPath>\n",
       "    </text>\n",
       "    <path class=\"displacy-arrowhead\" d=\"M512,304.0 L508,296.0 516,296.0\" fill=\"currentColor\"/>\n",
       "</g>\n",
       "\n",
       "<g class=\"displacy-arrow\">\n",
       "    <path class=\"displacy-arc\" id=\"arrow-076559cc2c31422298b33257b1c5a0cb-0-4\" stroke-width=\"2px\" d=\"M662,302.0 662,277.0 791.0,277.0 791.0,302.0\" fill=\"none\" stroke=\"currentColor\"/>\n",
       "    <text dy=\"1.25em\" style=\"font-size: 0.8em; letter-spacing: 1px\">\n",
       "        <textPath xlink:href=\"#arrow-076559cc2c31422298b33257b1c5a0cb-0-4\" class=\"displacy-label\" startOffset=\"50%\" side=\"left\" fill=\"currentColor\" text-anchor=\"middle\">advmod</textPath>\n",
       "    </text>\n",
       "    <path class=\"displacy-arrowhead\" d=\"M662,304.0 L658,296.0 666,296.0\" fill=\"currentColor\"/>\n",
       "</g>\n",
       "\n",
       "<g class=\"displacy-arrow\">\n",
       "    <path class=\"displacy-arc\" id=\"arrow-076559cc2c31422298b33257b1c5a0cb-0-5\" stroke-width=\"2px\" d=\"M962,302.0 962,277.0 1091.0,277.0 1091.0,302.0\" fill=\"none\" stroke=\"currentColor\"/>\n",
       "    <text dy=\"1.25em\" style=\"font-size: 0.8em; letter-spacing: 1px\">\n",
       "        <textPath xlink:href=\"#arrow-076559cc2c31422298b33257b1c5a0cb-0-5\" class=\"displacy-label\" startOffset=\"50%\" side=\"left\" fill=\"currentColor\" text-anchor=\"middle\">amod</textPath>\n",
       "    </text>\n",
       "    <path class=\"displacy-arrowhead\" d=\"M962,304.0 L958,296.0 966,296.0\" fill=\"currentColor\"/>\n",
       "</g>\n",
       "\n",
       "<g class=\"displacy-arrow\">\n",
       "    <path class=\"displacy-arc\" id=\"arrow-076559cc2c31422298b33257b1c5a0cb-0-6\" stroke-width=\"2px\" d=\"M812,302.0 812,252.0 1094.0,252.0 1094.0,302.0\" fill=\"none\" stroke=\"currentColor\"/>\n",
       "    <text dy=\"1.25em\" style=\"font-size: 0.8em; letter-spacing: 1px\">\n",
       "        <textPath xlink:href=\"#arrow-076559cc2c31422298b33257b1c5a0cb-0-6\" class=\"displacy-label\" startOffset=\"50%\" side=\"left\" fill=\"currentColor\" text-anchor=\"middle\">dobj</textPath>\n",
       "    </text>\n",
       "    <path class=\"displacy-arrowhead\" d=\"M1094.0,304.0 L1098.0,296.0 1090.0,296.0\" fill=\"currentColor\"/>\n",
       "</g>\n",
       "</svg></span>"
      ],
      "text/plain": [
       "<IPython.core.display.HTML object>"
      ]
     },
     "metadata": {},
     "output_type": "display_data"
    }
   ],
   "source": [
    "displacy.render(list(spacy_doc.sents)[0], \n",
    "                style=\"dep\", \n",
    "                options = {\"compact\": True, \n",
    "                           \"bg\": \"#09a3d5\",\n",
    "                           \"color\": \"white\", })"
   ]
  },
  {
   "cell_type": "markdown",
   "metadata": {},
   "source": [
    "Take a moment to appreciate how nice it is to have a visual representation of your data. It makes debugging your code much easier.\n",
    "\n",
    "That said, a dependency parse of a sentence is a tree rooted at its main verb. If you take the verb \"wear\", and imagine to pull it upwards, you would see the rest of the sentence dangling from it, with directed edges pointing at its children, children-of-children, etc.\n",
    "\n",
    "You can move upwards from a token to its parent token in the dependency tree via its `head` attribute."
   ]
  },
  {
   "cell_type": "code",
   "execution_count": 145,
   "metadata": {},
   "outputs": [],
   "source": [
    "def walkToTheRoot(token):\n",
    "    dep_labels = []\n",
    "    while token.head != token:\n",
    "        dep_labels.append((token.orth_, token.dep_))\n",
    "        token = token.head\n",
    "    return dep_labels"
   ]
  },
  {
   "cell_type": "code",
   "execution_count": 146,
   "metadata": {},
   "outputs": [
    {
     "data": {
      "text/plain": [
       "[('Donald', 'compound'), ('Trump', 'nsubj')]"
      ]
     },
     "execution_count": 146,
     "metadata": {},
     "output_type": "execute_result"
    }
   ],
   "source": [
    "walkToTheRoot(spacy_doc[2])"
   ]
  },
  {
   "cell_type": "markdown",
   "metadata": {},
   "source": [
    "the root is by convention the token that has itself as head"
   ]
  },
  {
   "cell_type": "code",
   "execution_count": 147,
   "metadata": {},
   "outputs": [
    {
     "data": {
      "text/plain": [
       "wear"
      ]
     },
     "execution_count": 147,
     "metadata": {},
     "output_type": "execute_result"
    }
   ],
   "source": [
    "root=None\n",
    "for token in spacy_doc:\n",
    "    if token == token.head:\n",
    "        root = token\n",
    "        break\n",
    "\n",
    "root"
   ]
  },
  {
   "cell_type": "markdown",
   "metadata": {},
   "source": [
    "You can also descend from a token using its `children` attribute. \n",
    "Now, you can move around the tree with standard tree transversal algorithms."
   ]
  },
  {
   "cell_type": "code",
   "execution_count": 150,
   "metadata": {},
   "outputs": [],
   "source": [
    "def dfs(root):\n",
    "    for child in root.children:\n",
    "        dfs(child)\n",
    "        print(child)"
   ]
  },
  {
   "cell_type": "code",
   "execution_count": 151,
   "metadata": {},
   "outputs": [
    {
     "name": "stdout",
     "output_type": "stream",
     "text": [
      "Why\n",
      "does\n",
      "Donald\n",
      "Trump\n",
      "always\n",
      "black\n",
      "suits\n",
      "?\n"
     ]
    }
   ],
   "source": [
    "dfs(root)"
   ]
  },
  {
   "cell_type": "markdown",
   "metadata": {},
   "source": [
    "You also have views that are in-between index- and dependency-based scanning of a sentence. For example, you have easy access to the dependents of a token that are in the left subtree (i.e. that have lower indices in the sentence)."
   ]
  },
  {
   "cell_type": "code",
   "execution_count": 148,
   "metadata": {},
   "outputs": [
    {
     "data": {
      "text/plain": [
       "[Why, does, Trump, always]"
      ]
     },
     "execution_count": 148,
     "metadata": {},
     "output_type": "execute_result"
    }
   ],
   "source": [
    "list(root.lefts)"
   ]
  },
  {
   "cell_type": "markdown",
   "metadata": {},
   "source": [
    "or just jump to the earliest position in the sentence that fits those criteria"
   ]
  },
  {
   "cell_type": "code",
   "execution_count": 149,
   "metadata": {},
   "outputs": [
    {
     "data": {
      "text/plain": [
       "Why"
      ]
     },
     "execution_count": 149,
     "metadata": {},
     "output_type": "execute_result"
    }
   ],
   "source": [
    "root.left_edge"
   ]
  },
  {
   "cell_type": "markdown",
   "metadata": {},
   "source": [
    "### 2.4 Notable Spans"
   ]
  },
  {
   "cell_type": "code",
   "execution_count": 152,
   "metadata": {
    "scrolled": true
   },
   "outputs": [
    {
     "name": "stdout",
     "output_type": "stream",
     "text": [
      "Donald Trump\n",
      "black suits\n",
      "he\n",
      "his brain\n"
     ]
    }
   ],
   "source": [
    "for noun_phrase in spacy_doc.noun_chunks:\n",
    "    print(noun_phrase)"
   ]
  },
  {
   "cell_type": "code",
   "execution_count": 153,
   "metadata": {},
   "outputs": [
    {
     "name": "stdout",
     "output_type": "stream",
     "text": [
      "Donald Trump is an entity of type PERSON\n"
     ]
    }
   ],
   "source": [
    "for entity in spacy_doc.ents:\n",
    "    print(\"{} is an entity of type {}\".format(entity, entity.label_))\n"
   ]
  },
  {
   "cell_type": "code",
   "execution_count": 154,
   "metadata": {},
   "outputs": [
    {
     "data": {
      "text/html": [
       "<span class=\"tex2jax_ignore\"><div class=\"entities\" style=\"line-height: 2.5; direction: ltr\">Why does \n",
       "<mark class=\"entity\" style=\"background: #aa9cfc; padding: 0.45em 0.6em; margin: 0 0.25em; line-height: 1; border-radius: 0.35em;\">\n",
       "    Donald Trump\n",
       "    <span style=\"font-size: 0.8em; font-weight: bold; line-height: 1; border-radius: 0.35em; text-transform: uppercase; vertical-align: middle; margin-left: 0.5rem\">PERSON</span>\n",
       "</mark>\n",
       " always wear black suits? </div></span>"
      ],
      "text/plain": [
       "<IPython.core.display.HTML object>"
      ]
     },
     "metadata": {},
     "output_type": "display_data"
    }
   ],
   "source": [
    "displacy.render(list(spacy_doc.sents)[0], \n",
    "                style=\"ent\", )"
   ]
  },
  {
   "cell_type": "markdown",
   "metadata": {},
   "source": [
    "## 3 Extensions"
   ]
  },
  {
   "cell_type": "markdown",
   "metadata": {},
   "source": [
    "spaCy has a number of extensions built for it, check them out at:\n",
    "https://spacy.io/universe\n",
    "    \n",
    "(beware, most are for python 3.6+ and WILL screw up your installation if you do not follow that indication)"
   ]
  },
  {
   "cell_type": "markdown",
   "metadata": {},
   "source": [
    "The typical way one uses ready-made extensions is by loading them as components to spaCy's processing pipe, before parsing your documents. You can easily build your own extensions too.\n",
    "\n",
    "The example below comes from spaCy's own website. It implements a naive NER system that identifies named entities when they exactly match a lowercased sequence of words, e.g. san+francisco and san+fran. You can also add an identifier to the patterns, so as to make multiple patterns match the same entity, in this case san-francisco."
   ]
  },
  {
   "cell_type": "code",
   "execution_count": 199,
   "metadata": {},
   "outputs": [
    {
     "name": "stdout",
     "output_type": "stream",
     "text": [
      "[('Apple', 'ORG', 'apple'), ('San Francisco', 'GPE', 'san-francisco')]\n",
      "[('Apple', 'ORG', 'apple'), ('San Fran', 'GPE', 'san-francisco')]\n"
     ]
    }
   ],
   "source": [
    "from spacy.lang.en import English\n",
    "from spacy.pipeline import EntityRuler\n",
    "\n",
    "nlp = English()\n",
    "ruler = EntityRuler(nlp)\n",
    "patterns = [{\"label\": \"ORG\", \"pattern\": \"Apple\", \"id\": \"apple\"},\n",
    "            {\"label\": \"GPE\", \"pattern\": [{\"LOWER\": \"san\"}, {\"LOWER\": \"francisco\"}], \"id\": \"san-francisco\"},\n",
    "            {\"label\": \"GPE\", \"pattern\": [{\"LOWER\": \"san\"}, {\"LOWER\": \"fran\"}], \"id\": \"san-francisco\"}]\n",
    "ruler.add_patterns(patterns)\n",
    "nlp.add_pipe(ruler)\n",
    "\n",
    "doc1 = nlp(\"Apple is opening its first big office in San Francisco.\")\n",
    "print([(ent.text, ent.label_, ent.ent_id_) for ent in doc1.ents])\n",
    "\n",
    "doc2 = nlp(\"Apple is opening its first big office in San Fran.\")\n",
    "print([(ent.text, ent.label_, ent.ent_id_) for ent in doc2.ents])"
   ]
  },
  {
   "cell_type": "markdown",
   "metadata": {},
   "source": [
    "Another way to change the capabilities of spaCy is to load different models altogether. E.g., here is a model in German."
   ]
  },
  {
   "cell_type": "code",
   "execution_count": 156,
   "metadata": {},
   "outputs": [],
   "source": [
    "# !python3 -m spacy download de"
   ]
  },
  {
   "cell_type": "code",
   "execution_count": 157,
   "metadata": {},
   "outputs": [],
   "source": [
    "de_nlp = spacy.load('de')"
   ]
  },
  {
   "cell_type": "code",
   "execution_count": 160,
   "metadata": {},
   "outputs": [],
   "source": [
    "de_doc=de_nlp(\"Mein Name ist Matthias und mein Deutsch ist scheiße\")"
   ]
  },
  {
   "cell_type": "code",
   "execution_count": 161,
   "metadata": {},
   "outputs": [
    {
     "name": "stdout",
     "output_type": "stream",
     "text": [
      "Matthias  PER\n",
      "Deutsch  MISC\n"
     ]
    }
   ],
   "source": [
    "for ent in de_doc.ents:\n",
    "    print(ent.string, ent.label_)"
   ]
  },
  {
   "cell_type": "markdown",
   "metadata": {},
   "source": [
    "## 4 Example data exploration"
   ]
  },
  {
   "cell_type": "markdown",
   "metadata": {},
   "source": [
    "some real data from https://osf.io/qhm5z/\n",
    "\n",
    "> Clarke I, Grieve J (2019) Stylistic variation on the Donald Trump Twitter account: A linguistic analysis of tweets posted between 2009 and 2018. PLoS ONE 14(9): e0222062.  \n",
    "\n",
    "[Link to the paper](https://doi.org/10.1371/journal.pone.0222062)"
   ]
  },
  {
   "cell_type": "code",
   "execution_count": 162,
   "metadata": {},
   "outputs": [],
   "source": [
    "# !wget -O trump_tweets.txt https://osf.io/jw5ad/download"
   ]
  },
  {
   "cell_type": "code",
   "execution_count": 163,
   "metadata": {},
   "outputs": [
    {
     "data": {
      "text/html": [
       "<div>\n",
       "<style scoped>\n",
       "    .dataframe tbody tr th:only-of-type {\n",
       "        vertical-align: middle;\n",
       "    }\n",
       "\n",
       "    .dataframe tbody tr th {\n",
       "        vertical-align: top;\n",
       "    }\n",
       "\n",
       "    .dataframe thead th {\n",
       "        text-align: right;\n",
       "    }\n",
       "</style>\n",
       "<table border=\"1\" class=\"dataframe\">\n",
       "  <thead>\n",
       "    <tr style=\"text-align: right;\">\n",
       "      <th></th>\n",
       "      <th>STATUSID</th>\n",
       "      <th>DATE</th>\n",
       "      <th>TIME</th>\n",
       "      <th>SOURCE</th>\n",
       "      <th>Retweet</th>\n",
       "      <th>Favourite</th>\n",
       "      <th>TWEETS</th>\n",
       "    </tr>\n",
       "  </thead>\n",
       "  <tbody>\n",
       "    <tr>\n",
       "      <th>0</th>\n",
       "      <td>·      965971586913374208</td>\n",
       "      <td>02-20-2018</td>\n",
       "      <td>15:29:07</td>\n",
       "      <td>Twitter for iPhone</td>\n",
       "      <td>19693</td>\n",
       "      <td>79159</td>\n",
       "      <td>1.     ....cameras running. Another False Accu...</td>\n",
       "    </tr>\n",
       "    <tr>\n",
       "      <th>1</th>\n",
       "      <td>·      965968309358333952</td>\n",
       "      <td>02-20-2018</td>\n",
       "      <td>15:16:06</td>\n",
       "      <td>Twitter for iPhone</td>\n",
       "      <td>21676</td>\n",
       "      <td>96352</td>\n",
       "      <td>2.     A woman I don’t know and, to the best o...</td>\n",
       "    </tr>\n",
       "    <tr>\n",
       "      <th>2</th>\n",
       "      <td>·      965943827931549696</td>\n",
       "      <td>02-20-2018</td>\n",
       "      <td>13:38:49</td>\n",
       "      <td>Twitter for iPhone</td>\n",
       "      <td>16216</td>\n",
       "      <td>77951</td>\n",
       "      <td>3.     I have been much tougher on Russia than...</td>\n",
       "    </tr>\n",
       "    <tr>\n",
       "      <th>3</th>\n",
       "      <td>·      965937068907073536</td>\n",
       "      <td>02-20-2018</td>\n",
       "      <td>13:11:58</td>\n",
       "      <td>Twitter for iPhone</td>\n",
       "      <td>20211</td>\n",
       "      <td>79178</td>\n",
       "      <td>4.     Hope Republicans in the Great State of ...</td>\n",
       "    </tr>\n",
       "    <tr>\n",
       "      <th>4</th>\n",
       "      <td>·      965935035328155649</td>\n",
       "      <td>02-20-2018</td>\n",
       "      <td>13:03:53</td>\n",
       "      <td>Twitter for iPhone</td>\n",
       "      <td>10176</td>\n",
       "      <td>51701</td>\n",
       "      <td>5.     Matt Schlapp and CPAC are getting ready...</td>\n",
       "    </tr>\n",
       "  </tbody>\n",
       "</table>\n",
       "</div>"
      ],
      "text/plain": [
       "                    STATUSID        DATE      TIME              SOURCE  \\\n",
       "0  ·      965971586913374208  02-20-2018  15:29:07  Twitter for iPhone   \n",
       "1  ·      965968309358333952  02-20-2018  15:16:06  Twitter for iPhone   \n",
       "2  ·      965943827931549696  02-20-2018  13:38:49  Twitter for iPhone   \n",
       "3  ·      965937068907073536  02-20-2018  13:11:58  Twitter for iPhone   \n",
       "4  ·      965935035328155649  02-20-2018  13:03:53  Twitter for iPhone   \n",
       "\n",
       "   Retweet  Favourite                                             TWEETS  \n",
       "0    19693      79159  1.     ....cameras running. Another False Accu...  \n",
       "1    21676      96352  2.     A woman I don’t know and, to the best o...  \n",
       "2    16216      77951  3.     I have been much tougher on Russia than...  \n",
       "3    20211      79178  4.     Hope Republicans in the Great State of ...  \n",
       "4    10176      51701  5.     Matt Schlapp and CPAC are getting ready...  "
      ]
     },
     "execution_count": 163,
     "metadata": {},
     "output_type": "execute_result"
    }
   ],
   "source": [
    "trump_tweets = pd.read_csv('trump_tweets.txt', sep='\\t')\n",
    "trump_tweets.head()"
   ]
  },
  {
   "cell_type": "markdown",
   "metadata": {},
   "source": [
    "quick text beautification to make the parser more effective"
   ]
  },
  {
   "cell_type": "code",
   "execution_count": 164,
   "metadata": {},
   "outputs": [],
   "source": [
    "unescape_html = lambda x: BeautifulSoup(x).get_text().strip() # remove things like &amp\n",
    "remove_urls = lambda x: re.sub(\"http(.+)?(\\W|$)\", ' ', x) # remove urls\n",
    "normalize_spaces = lambda x: re.sub(\"[\\n\\r\\t ]+\", ' ', x) # remove subsequent spaces and newlines\n",
    "remove_leading_digits = lambda x: re.sub(\"\\d+\\.\", \"\", x) # remove the \"1.   \" that prefixes the data"
   ]
  },
  {
   "cell_type": "code",
   "execution_count": 165,
   "metadata": {},
   "outputs": [],
   "source": [
    "def preprocess(x):\n",
    "    x = remove_leading_digits(x)\n",
    "    x = unescape_html(x)\n",
    "    x = remove_urls(x)\n",
    "    x = normalize_spaces(x)\n",
    "    \n",
    "    return x.strip()"
   ]
  },
  {
   "cell_type": "code",
   "execution_count": 166,
   "metadata": {},
   "outputs": [],
   "source": [
    "trump_tweets['text'] = trump_tweets.TWEETS.apply(preprocess)"
   ]
  },
  {
   "cell_type": "markdown",
   "metadata": {},
   "source": [
    "let's use a medium-sized model"
   ]
  },
  {
   "cell_type": "code",
   "execution_count": 200,
   "metadata": {},
   "outputs": [],
   "source": [
    "nlp = en_core_web_md.load()"
   ]
  },
  {
   "cell_type": "markdown",
   "metadata": {},
   "source": [
    "and let's consider the first 2000 tweets as a single document, for the sake of simplicity. It is trivial to parse each tweet individually for the entire collection, and modify the code below to work on a list of documents instead of on one large document.\n"
   ]
  },
  {
   "cell_type": "code",
   "execution_count": 167,
   "metadata": {},
   "outputs": [],
   "source": [
    "trump_doc = nlp('\\n'.join(trump_tweets.head(2000).text.values))"
   ]
  },
  {
   "cell_type": "markdown",
   "metadata": {},
   "source": [
    "what are the most common words?"
   ]
  },
  {
   "cell_type": "code",
   "execution_count": 168,
   "metadata": {},
   "outputs": [
    {
     "data": {
      "text/plain": [
       "[('great', 481),\n",
       " ('people', 188),\n",
       " ('big', 181),\n",
       " ('news', 176),\n",
       " ('thank', 163),\n",
       " ('america', 162),\n",
       " ('fake', 156),\n",
       " ('tax', 151),\n",
       " ('country', 144),\n",
       " ('year', 142)]"
      ]
     },
     "execution_count": 168,
     "metadata": {},
     "output_type": "execute_result"
    }
   ],
   "source": [
    "Counter(map(lambda x:x.lemma_.lower(), \n",
    "            filter(lambda x: not (x.is_stop or x.is_punct or x.is_space),\n",
    "                trump_doc))).most_common(10)"
   ]
  },
  {
   "cell_type": "markdown",
   "metadata": {},
   "source": [
    "what type of entities does he talk about?"
   ]
  },
  {
   "cell_type": "code",
   "execution_count": 169,
   "metadata": {},
   "outputs": [
    {
     "data": {
      "text/plain": [
       "{'CARDINAL',\n",
       " 'DATE',\n",
       " 'EVENT',\n",
       " 'FAC',\n",
       " 'GPE',\n",
       " 'LANGUAGE',\n",
       " 'LAW',\n",
       " 'LOC',\n",
       " 'MONEY',\n",
       " 'NORP',\n",
       " 'ORDINAL',\n",
       " 'ORG',\n",
       " 'PERCENT',\n",
       " 'PERSON',\n",
       " 'PRODUCT',\n",
       " 'QUANTITY',\n",
       " 'TIME',\n",
       " 'WORK_OF_ART'}"
      ]
     },
     "execution_count": 169,
     "metadata": {},
     "output_type": "execute_result"
    }
   ],
   "source": [
    "set([w.label_ for w in trump_doc.ents])"
   ]
  },
  {
   "cell_type": "markdown",
   "metadata": {},
   "source": [
    "which places does he talk about?"
   ]
  },
  {
   "cell_type": "code",
   "execution_count": 171,
   "metadata": {},
   "outputs": [],
   "source": [
    "GPE_counts = Counter(ent.lemma_.lower() for ent in trump_doc.ents if ent.label_ == 'GPE')"
   ]
  },
  {
   "cell_type": "code",
   "execution_count": 172,
   "metadata": {},
   "outputs": [
    {
     "data": {
      "text/plain": [
       "[('america', 127),\n",
       " ('u.s.', 79),\n",
       " ('russia', 53),\n",
       " ('china', 49),\n",
       " ('north korea', 47),\n",
       " ('the united states', 31),\n",
       " ('puerto rico', 27),\n",
       " ('florida', 26),\n",
       " ('alabama', 25),\n",
       " ('usa', 21)]"
      ]
     },
     "execution_count": 172,
     "metadata": {},
     "output_type": "execute_result"
    }
   ],
   "source": [
    "GPE_counts.most_common(10)"
   ]
  },
  {
   "cell_type": "code",
   "execution_count": 173,
   "metadata": {},
   "outputs": [
    {
     "data": {
      "text/plain": [
       "[('new york', 1),\n",
       " ('alexandria', 1),\n",
       " ('whitewater', 1),\n",
       " ('lottery', 1),\n",
       " ('kuwait', 1),\n",
       " ('ms', 1),\n",
       " ('the#uswomensopen', 1),\n",
       " ('sanctuary', 1),\n",
       " ('middle class', 1),\n",
       " ('jamaica', 1)]"
      ]
     },
     "execution_count": 173,
     "metadata": {},
     "output_type": "execute_result"
    }
   ],
   "source": [
    "GPE_counts.most_common()[::-1][:10]"
   ]
  },
  {
   "cell_type": "markdown",
   "metadata": {},
   "source": [
    "which organizations?"
   ]
  },
  {
   "cell_type": "code",
   "execution_count": 174,
   "metadata": {},
   "outputs": [],
   "source": [
    "ORG_counts = Counter(ent.lemma_.lower() for ent in trump_doc.ents if ent.label_ == 'ORG')"
   ]
  },
  {
   "cell_type": "code",
   "execution_count": 175,
   "metadata": {},
   "outputs": [
    {
     "data": {
      "text/plain": [
       "[('🇸', 77),\n",
       " ('fbi', 49),\n",
       " ('obamacare', 48),\n",
       " ('senate', 43),\n",
       " ('congress', 38),\n",
       " ('trump', 35),\n",
       " ('fake news', 31),\n",
       " ('the fake news', 26),\n",
       " ('healthcare', 25),\n",
       " ('@whitehouse', 23)]"
      ]
     },
     "execution_count": 175,
     "metadata": {},
     "output_type": "execute_result"
    }
   ],
   "source": [
    "ORG_counts.most_common(10)"
   ]
  },
  {
   "cell_type": "markdown",
   "metadata": {},
   "source": [
    "let's see what he has to say about certain named entities, e.g. entities that match a certain regex"
   ]
  },
  {
   "cell_type": "code",
   "execution_count": 176,
   "metadata": {},
   "outputs": [],
   "source": [
    "def sentences_w_entity_regex(trump_doc, pattern):\n",
    "    for entity in trump_doc.ents:\n",
    "        if re.match(pattern, entity.string):\n",
    "            yield entity.sent"
   ]
  },
  {
   "cell_type": "markdown",
   "metadata": {},
   "source": [
    "some words on Obama[care]"
   ]
  },
  {
   "cell_type": "code",
   "execution_count": 177,
   "metadata": {},
   "outputs": [
    {
     "name": "stdout",
     "output_type": "stream",
     "text": [
      "I have been much tougher on Russia than Obama, just look at the facts.\n",
      "Big difference from those days when President Obama held the White House.\n",
      "The President Obama quote just before election.\n",
      "Obama was President up to, and beyond, the 2016 Election.\n",
      "Now that Adam Schiff is starting to blame President Obama for Russian meddling in the election, he is probably doing so as yet another excuse that the Democrats, lead by their fearless leader, Crooked Hillary Clinton, lost the 2016 election.\n",
      "Obama was President, knew of the threat, and did nothing.\n",
      "Never gotten over the fact that Obama was able to send $7 Billion Dollars in CASH to Iran and nobody in Congress, the FBI or Justice called for an investigation!\n",
      "“President Trump reversed the policies of President Obama, and reversed our economic decline.”\n",
      "While the Fake News loves to talk about my so-called low approval rating, @foxandfriends just showed that my rating on Dec. 28, 2017, was approximately the same as President Obama on Dec. 28, 2009, which was 47%...and\n",
      "Based on the fact that the very unfair and unpopular Individual Mandate has been terminated as part of our Tax Cut Bill, which essentially Repeals (over time) ObamaCare, the Democrats & Republicans will eventually come together and develop a great new HealthCare plan!\n"
     ]
    }
   ],
   "source": [
    "for sentence in islice(sentences_w_entity_regex(trump_doc, re.compile(\"obam.*\", re.I)), 10):\n",
    "    print(sentence.text.strip())"
   ]
  },
  {
   "cell_type": "markdown",
   "metadata": {},
   "source": [
    "some words on crooked people"
   ]
  },
  {
   "cell_type": "code",
   "execution_count": 178,
   "metadata": {},
   "outputs": [
    {
     "name": "stdout",
     "output_type": "stream",
     "text": [
      "That’s because he thought Crooked Hillary was going to win\n",
      "Now that Adam Schiff is starting to blame President Obama for Russian meddling in the election, he is probably doing so as yet another excuse that the Democrats, lead by their fearless leader, Crooked Hillary Clinton, lost the 2016 election.\n",
      "General McMaster forgot to say that the results of the 2016 election were not impacted or changed by the Russians and that the only Collusion was between Russia and Crooked H, the DNC and the Dems.\n",
      "All tied into Crooked Hillary.\n",
      "Many people in our Country are asking what the “Justice” Department is going to do about the fact that totally Crooked Hillary, AFTER receiving a subpoena from the United States Congress, deleted and “acid washed” 33,000 Emails?\n",
      "So General Flynn lies to the FBI and his life is destroyed, while Crooked Hillary Clinton, on that now famous FBI holiday “interrogation” with no swearing in and no recording, lies many times...and nothing happens to her?\n",
      "“Had the information (Crooked Hillary’s emails) been released there would have been harm to National Security....\n",
      "Does the Fake News Media remember when Crooked Hillary Clinton, as Secretary of State, was begging Russia to be our friend with the misspelled reset button?\n",
      "Bernie Sanders supporters have every right to be apoplectic of the complete theft of the Dem primary by Crooked Hillary!\n",
      "...\n",
      "Pocahontas just stated that the Democrats, lead by the legendary Crooked Hillary Clinton, rigged the Primaries!\n"
     ]
    }
   ],
   "source": [
    "for sentence in islice(sentences_w_entity_regex(trump_doc, re.compile(\"crooked\", re.I)), 10):\n",
    "    print(sentence.text.strip())"
   ]
  },
  {
   "cell_type": "markdown",
   "metadata": {},
   "source": [
    "Sources say that when tweets from Android, it is him directly, whereas when from iPhone, it is his staff. Let's see some differences \n",
    "https://twitter.com/tvaziri/status/762005541388378112"
   ]
  },
  {
   "cell_type": "code",
   "execution_count": 218,
   "metadata": {},
   "outputs": [
    {
     "data": {
      "text/plain": [
       "SOURCE\n",
       "Facebook                      105\n",
       "Instagram                     133\n",
       "Media Studio                  126\n",
       "Mobile Web (M5)                55\n",
       "Neatly For BlackBerry 10        5\n",
       "Periscope                       7\n",
       "TweetDeck                     483\n",
       "TwitLonger Beta               404\n",
       "Twitlonger                     23\n",
       "Twitter Ads                    97\n",
       "Twitter Mirror for iPad         1\n",
       "Twitter QandA                  10\n",
       "Twitter Web Client          11252\n",
       "Twitter for Android          4659\n",
       "Twitter for BlackBerry         96\n",
       "Twitter for Websites            1\n",
       "Twitter for iPad               48\n",
       "Twitter for iPhone           4224\n",
       "Vine - Make a Scene            10\n",
       "dtype: int64"
      ]
     },
     "execution_count": 218,
     "metadata": {},
     "output_type": "execute_result"
    }
   ],
   "source": [
    "trump_tweets.groupby('SOURCE').size()"
   ]
  },
  {
   "cell_type": "markdown",
   "metadata": {},
   "source": [
    "Let's compare the distribution of POS on 2000 tweets from each source."
   ]
  },
  {
   "cell_type": "code",
   "execution_count": 220,
   "metadata": {},
   "outputs": [
    {
     "data": {
      "text/plain": [
       "<matplotlib.axes._subplots.AxesSubplot at 0x7fb71e134da0>"
      ]
     },
     "execution_count": 220,
     "metadata": {},
     "output_type": "execute_result"
    },
    {
     "data": {
      "image/png": "[encoded data removed]",
      "text/plain": [
       "<Figure size 1440x720 with 1 Axes>"
      ]
     },
     "metadata": {
      "needs_background": "light"
     },
     "output_type": "display_data"
    }
   ],
   "source": [
    "media_tweets = trump_doc = nlp('\\n'.join(trump_tweets[trump_tweets.SOURCE=='Twitter for iPhone'].head(2000).text.values))\n",
    "android_tweets = trump_doc = nlp('\\n'.join(trump_tweets[trump_tweets.SOURCE=='Twitter for Android'].head(2000).text.values))\n",
    "\n",
    "media_tweetsPOS = pd.Series(media_tweets.count_by(spacy.attrs.POS))/len(media_tweets)\n",
    "android_tweetsPOS = pd.Series(android_tweets.count_by(spacy.attrs.POS))/len(android_tweets)\n",
    "\n",
    "\n",
    "tagDict = {w.pos: w.pos_ for w in media_tweets} \n",
    "df = pd.DataFrame([media_tweetsPOS, android_tweetsPOS], index=['media', 'android'])\n",
    "df.columns = [tagDict[column] for column in df.columns]\n",
    "df.T.plot(kind='bar', figsize=(20, 10))"
   ]
  },
  {
   "cell_type": "markdown",
   "metadata": {},
   "source": [
    "What is been made?"
   ]
  },
  {
   "cell_type": "code",
   "execution_count": 231,
   "metadata": {},
   "outputs": [],
   "source": [
    "def verbObjects(doc, verb):\n",
    "    verb_objects = list()\n",
    "    for tok in doc:\n",
    "        if tok.pos_.startswith('V') and tok.lemma_.lower()==verb:\n",
    "            for child in tok.children:\n",
    "                if child.dep_ in ['xcomp', 'dobj', 'ccomp']:\n",
    "                    verb_objects.append(''.join(i.string for i in child.subtree).strip())\n",
    "    return Counter(verb_objects).most_common(10)\n",
    "        "
   ]
  },
  {
   "cell_type": "code",
   "execution_count": 232,
   "metadata": {},
   "outputs": [
    {
     "data": {
      "text/plain": [
       "[('AMERICA GREAT', 67),\n",
       " ('America', 6),\n",
       " ('AMERICA SAFE AND', 5),\n",
       " ('AMERICA SAFE', 4),\n",
       " ('so many mistakes', 3),\n",
       " ('America Great', 3),\n",
       " ('Great', 2),\n",
       " ('AMERICA SAFE & GREAT', 2),\n",
       " ('a big speech', 2),\n",
       " (', phony facts', 1)]"
      ]
     },
     "execution_count": 232,
     "metadata": {},
     "output_type": "execute_result"
    }
   ],
   "source": [
    "verbObjects(android_tweets, 'make')"
   ]
  },
  {
   "cell_type": "code",
   "execution_count": 233,
   "metadata": {},
   "outputs": [
    {
     "data": {
      "text/plain": [
       "[('AMERICA GREAT', 42),\n",
       " ('a deal', 11),\n",
       " ('America', 5),\n",
       " ('Great', 2),\n",
       " ('such a difference', 2),\n",
       " ('us a powerhouse', 1),\n",
       " ('a phony collusion with the Russians story', 1),\n",
       " ('some of the worst Trade Deals in world history', 1),\n",
       " ('it really special', 1),\n",
       " ('stories about me', 1)]"
      ]
     },
     "execution_count": 233,
     "metadata": {},
     "output_type": "execute_result"
    }
   ],
   "source": [
    "verbObjects(media_tweets, 'make')"
   ]
  },
  {
   "cell_type": "code",
   "execution_count": 224,
   "metadata": {},
   "outputs": [],
   "source": [
    "def characterAdjectives(text, character):\n",
    "    adjectives = []\n",
    "    for word in text: \n",
    "        if character in word.string:\n",
    "            for child in word.children: \n",
    "                if child.pos_ == 'ADJ': \n",
    "                    adjectives.append(child.string.strip())\n",
    "    return Counter(adjectives).most_common(10)"
   ]
  },
  {
   "cell_type": "code",
   "execution_count": 225,
   "metadata": {},
   "outputs": [
    {
     "data": {
      "text/plain": [
       "[('Crooked', 18), ('worst', 1), ('-', 1)]"
      ]
     },
     "execution_count": 225,
     "metadata": {},
     "output_type": "execute_result"
    }
   ],
   "source": [
    "characterAdjectives(android_tweets, 'Hillary')"
   ]
  },
  {
   "cell_type": "code",
   "execution_count": 226,
   "metadata": {},
   "outputs": [
    {
     "data": {
      "text/plain": [
       "[('Crooked', 3), ('HAPPENED”“How', 1)]"
      ]
     },
     "execution_count": 226,
     "metadata": {},
     "output_type": "execute_result"
    }
   ],
   "source": [
    "characterAdjectives(media_tweets, 'Hillary')"
   ]
  },
  {
   "cell_type": "code",
   "execution_count": 227,
   "metadata": {},
   "outputs": [],
   "source": [
    "def parentVerbsForPerson(sentences):\n",
    "    from collections import defaultdict\n",
    "    counts = defaultdict(lambda: defaultdict(int))\n",
    "    for sentence in sentences:\n",
    "        for ent in sentence.ents:\n",
    "            if ent.label_ == 'PERSON' and ent.root.head.pos_ == \"VERB\":\n",
    "                counts[ent.orth_][ent.root.head.lemma_] += 1\n",
    "    return counts"
   ]
  },
  {
   "cell_type": "code",
   "execution_count": 230,
   "metadata": {},
   "outputs": [
    {
     "data": {
      "text/plain": [
       "defaultdict(<function __main__.parentVerbsForPerson.<locals>.<lambda>()>,\n",
       "            {'#ICYMI': defaultdict(int, {'watch': 2}),\n",
       "             '#MAGATickets': defaultdict(int, {'call': 1, 'poison': 1}),\n",
       "             'Abe': defaultdict(int, {'head': 1}),\n",
       "             'Amy': defaultdict(int, {'share': 1}),\n",
       "             'Arlene': defaultdict(int, {'thank': 1}),\n",
       "             'Arnold Schwarzenegger': defaultdict(int,\n",
       "                         {'leave': 1, 'swamp': 1}),\n",
       "             'Ben Carson': defaultdict(int, {'consider': 1}),\n",
       "             'Bernie Sanders': defaultdict(int, {'cut': 1}),\n",
       "             'Bill Clinton': defaultdict(int, {'call': 1, 'state': 1}),\n",
       "             'Bush': defaultdict(int, {'boycott': 1}),\n",
       "             'Carlos Slim': defaultdict(int, {'call': 1}),\n",
       "             'Chelsea Manning': defaultdict(int, {'call': 1}),\n",
       "             'Chris Cuomo': defaultdict(int, {'ask': 1}),\n",
       "             'Chuck Jones': defaultdict(int, {'do': 1}),\n",
       "             'Clinton': defaultdict(int, {'demand': 1}),\n",
       "             'Comey': defaultdict(int, {'praise': 1}),\n",
       "             'Crimea': defaultdict(int, {'take': 1}),\n",
       "             'Crooked': defaultdict(int, {'catch': 1}),\n",
       "             'Crooked Hillary': defaultdict(int, {'want': 1}),\n",
       "             'CrookedHillary': defaultdict(int, {'take': 1}),\n",
       "             'Donald J. Trump': defaultdict(int, {'nominate': 1}),\n",
       "             'Donald Trump': defaultdict(int, {'help': 1}),\n",
       "             'Elaine Chao': defaultdict(int, {'nominate': 1}),\n",
       "             'Gorsuch': defaultdict(int, {'tell': 1}),\n",
       "             'Gregg Phillips': defaultdict(int, {'say': 1}),\n",
       "             'Hershey': defaultdict(int, {'thank': 1}),\n",
       "             'Hillary': defaultdict(int,\n",
       "                         {'avoid': 1,\n",
       "                          'focus': 1,\n",
       "                          'go': 1,\n",
       "                          'handle': 1,\n",
       "                          'love': 1}),\n",
       "             'Hillary Clinton': defaultdict(int,\n",
       "                         {'concede': 1,\n",
       "                          'push': 1,\n",
       "                          'represent': 1,\n",
       "                          'shower': 1}),\n",
       "             'Huma': defaultdict(int, {'call': 1}),\n",
       "             'ISIS': defaultdict(int, {'take': 1}),\n",
       "             'James Clapper': defaultdict(int, {'call': 1}),\n",
       "             'Jeb Bush': defaultdict(int, {'call': 1}),\n",
       "             'Jeff Sessions': defaultdict(int, {'meet': 1}),\n",
       "             'John Kasich': defaultdict(int, {'call': 1}),\n",
       "             'John Lewis': defaultdict(int,\n",
       "                         {'focus': 1, 'say': 1, 'spend': 1}),\n",
       "             'John McCain': defaultdict(int, {'beg': 1}),\n",
       "             'Join @AmerIcan32': defaultdict(int, {'join': 1}),\n",
       "             'Juanita Broaddrick': defaultdict(int, {'relive': 1}),\n",
       "             'Julian Assange': defaultdict(int, {'say': 1}),\n",
       "             'Kelly': defaultdict(int, {'say': 1}),\n",
       "             'Kellyanne': defaultdict(int, {'inform': 1}),\n",
       "             'Kellyanne Conway': defaultdict(int, {'go': 1}),\n",
       "             'Leopoldo Lopez': defaultdict(int, {'allow': 1}),\n",
       "             'Martin Luther King Day': defaultdict(int, {'celebrate': 1}),\n",
       "             'McCain': defaultdict(int, {'talk': 1}),\n",
       "             'Meryl Streep': defaultdict(int, {'know': 1}),\n",
       "             'Mike Pence': defaultdict(int, {'win': 1}),\n",
       "             'Mitt Romney': defaultdict(int, {'call': 1}),\n",
       "             'Nancy Pelosi': defaultdict(int, {'hold': 1}),\n",
       "             'Obama': defaultdict(int,\n",
       "                         {'call': 1,\n",
       "                          'campaign': 1,\n",
       "                          'go': 1,\n",
       "                          'say': 1,\n",
       "                          'tap': 1}),\n",
       "             'Obamacare': defaultdict(int, {'continue': 1}),\n",
       "             'Paul Ryan': defaultdict(int, {'give': 1, 'start': 1}),\n",
       "             'Perez': defaultdict(int, {'demand': 1}),\n",
       "             'Richard Blumenthal': defaultdict(int, {'misrepresent': 1}),\n",
       "             'Rush Limbaugh': defaultdict(int, {'say': 1}),\n",
       "             'Shinzo Abe': defaultdict(int, {'host': 1}),\n",
       "             'Theresa May': defaultdict(int, {'meet': 1}),\n",
       "             'Tom Price': defaultdict(int, {'approve': 1}),\n",
       "             'Trump': defaultdict(int, {'blast': 1}),\n",
       "             'V.P. Mike Pence': defaultdict(int, {'harass': 1}),\n",
       "             'Vladimir Putin': defaultdict(int, {'say': 1}),\n",
       "             'WikiLeaks': defaultdict(int, {'catch': 1})})"
      ]
     },
     "execution_count": 230,
     "metadata": {},
     "output_type": "execute_result"
    }
   ],
   "source": [
    "parentVerbsForPerson(islice(android_tweets.sents, 1000))"
   ]
  },
  {
   "cell_type": "code",
   "execution_count": null,
   "metadata": {},
   "outputs": [],
   "source": []
  },
  {
   "cell_type": "code",
   "execution_count": null,
   "metadata": {},
   "outputs": [],
   "source": []
  }
 ],
 "metadata": {
  "kernelspec": {
   "display_name": "Python 3",
   "language": "python",
   "name": "python3"
  },
  "language_info": {
   "codemirror_mode": {
    "name": "ipython",
    "version": 3
   },
   "file_extension": ".py",
   "mimetype": "text/x-python",
   "name": "python",
   "nbconvert_exporter": "python",
   "pygments_lexer": "ipython3",
   "version": "3.5.2"
  }
 },
 "nbformat": 4,
 "nbformat_minor": 4
}
