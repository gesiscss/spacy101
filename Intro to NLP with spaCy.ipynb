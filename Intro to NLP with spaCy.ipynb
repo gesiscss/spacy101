{
 "cells": [
  {
   "cell_type": "markdown",
   "metadata": {},
   "source": [
    "# Intro to NLP with spaCy\n",
    "\n",
    "This notebook is a hands-on introduction to NLP with [spaCy](https://spacy.io/), a library by [explosion.ai](https://explosion.ai/). \n",
    "\n",
    "> spaCy is a free, open-source library for advanced Natural Language Processing (NLP) in Python.\n",
    "\n",
    "spaCy helps you\n",
    "- work with a lot of text _(corpus)_\n",
    "- preprocess text\n",
    "- extract information, like\n",
    "    - what is the corpus about? \n",
    "    - which texts are similar to each other?\n",
    "    - which people, companies, countries etc. are mentioned? \n",
    "    - who says what to whom?\n",
    "\n",
    "spaCy handles many tasks commonly associated with building an end-to-end natural language processing pipeline:\n",
    "- tokenization and sentence boundary detection\n",
    "- normalization (lowercasing, stemming/lemmatization...)\n",
    "- POS tagging\n",
    "- dependency parsing\n",
    "- NER\n",
    "\n",
    "Why spaCy?\n",
    "- batteries included (stopwords, token probabilities, word vectors)\n",
    "- scaling from prototyping to deployment\n",
    "- visualization\n",
    "\n",
    "spaCy (out of the box) is not for:\n",
    "- downstream tasks (topic modeling, classification, chatbots, ...)\n",
    "- niche preprocessing tasks (coreference resolution, ...)\n",
    "- ...\n",
    "- but!\n",
    "\n"
   ]
  },
  {
   "cell_type": "code",
   "execution_count": 11,
   "metadata": {},
   "outputs": [
    {
     "name": "stdout",
     "output_type": "stream",
     "text": [
      "Found existing installation: murmurhash 0.26.4\r\n",
      "Uninstalling murmurhash-0.26.4:\r\n",
      "  Successfully uninstalled murmurhash-0.26.4\r\n"
     ]
    }
   ],
   "source": [
    "!pip3 uninstall -y murmurhash"
   ]
  },
  {
   "cell_type": "code",
   "execution_count": 13,
   "metadata": {},
   "outputs": [
    {
     "name": "stdout",
     "output_type": "stream",
     "text": [
      "Collecting spacy\n",
      "  Using cached spacy-2.3.2.tar.gz (5.9 MB)\n",
      "  Installing build dependencies ... \u001b[?25ldone\n",
      "\u001b[?25h  Getting requirements to build wheel ... \u001b[?25ldone\n",
      "\u001b[?25h    Preparing wheel metadata ... \u001b[?25lerror\n",
      "\u001b[31m    ERROR: Command errored out with exit status 1:\n",
      "     command: /ssd/samory/spacytutorial/env/bin/python3 /ssd/samory/spacytutorial/env/local/lib/python3.5/site-packages/pip/_vendor/pep517/_in_process.py prepare_metadata_for_build_wheel /tmp/tmpmubmno_6\n",
      "         cwd: /tmp/pip-install-jp453sjl/spacy\n",
      "    Complete output (28 lines):\n",
      "    Traceback (most recent call last):\n",
      "      File \"/ssd/samory/spacytutorial/env/local/lib/python3.5/site-packages/pip/_vendor/pep517/_in_process.py\", line 280, in <module>\n",
      "        main()\n",
      "      File \"/ssd/samory/spacytutorial/env/local/lib/python3.5/site-packages/pip/_vendor/pep517/_in_process.py\", line 263, in main\n",
      "        json_out['return_val'] = hook(**hook_input['kwargs'])\n",
      "      File \"/ssd/samory/spacytutorial/env/local/lib/python3.5/site-packages/pip/_vendor/pep517/_in_process.py\", line 133, in prepare_metadata_for_build_wheel\n",
      "        return hook(metadata_directory, config_settings)\n",
      "      File \"/ssd/samory/spacytutorial/env/local/lib/python3.5/site-packages/setuptools/build_meta.py\", line 157, in prepare_metadata_for_build_wheel\n",
      "        self.run_setup()\n",
      "      File \"/ssd/samory/spacytutorial/env/local/lib/python3.5/site-packages/setuptools/build_meta.py\", line 142, in run_setup\n",
      "        exec(compile(code, __file__, 'exec'), locals())\n",
      "      File \"setup.py\", line 250, in <module>\n",
      "        setup_package()\n",
      "      File \"setup.py\", line 245, in setup_package\n",
      "        cmdclass={\"build_ext\": build_ext_subclass},\n",
      "      File \"/ssd/samory/spacytutorial/env/local/lib/python3.5/site-packages/setuptools/__init__.py\", line 164, in setup\n",
      "        _install_setup_requires(attrs)\n",
      "      File \"/ssd/samory/spacytutorial/env/local/lib/python3.5/site-packages/setuptools/__init__.py\", line 159, in _install_setup_requires\n",
      "        dist.fetch_build_eggs(dist.setup_requires)\n",
      "      File \"/ssd/samory/spacytutorial/env/local/lib/python3.5/site-packages/setuptools/dist.py\", line 702, in fetch_build_eggs\n",
      "        replace_conflicting=True,\n",
      "      File \"/ssd/samory/spacytutorial/env/local/lib/python3.5/site-packages/pkg_resources/__init__.py\", line 826, in resolve\n",
      "        dist = best[req.key] = env.best_match(req, ws, installer)\n",
      "      File \"/ssd/samory/spacytutorial/env/local/lib/python3.5/site-packages/pkg_resources/__init__.py\", line 1085, in best_match\n",
      "        dist = working_set.find(req)\n",
      "      File \"/ssd/samory/spacytutorial/env/local/lib/python3.5/site-packages/pkg_resources/__init__.py\", line 695, in find\n",
      "        raise VersionConflict(dist, req)\n",
      "    pkg_resources.VersionConflict: (preshed 0.46.4 (/ssd/samory/spacytutorial/env/lib/python3.5/site-packages), Requirement.parse('preshed<3.1.0,>=3.0.2'))\n",
      "    ----------------------------------------\u001b[0m\n",
      "\u001b[31mERROR: Command errored out with exit status 1: /ssd/samory/spacytutorial/env/bin/python3 /ssd/samory/spacytutorial/env/local/lib/python3.5/site-packages/pip/_vendor/pep517/_in_process.py prepare_metadata_for_build_wheel /tmp/tmpmubmno_6 Check the logs for full command output.\u001b[0m\n",
      "\u001b[?25h"
     ]
    }
   ],
   "source": [
    "!pip3 install spacy"
   ]
  },
  {
   "cell_type": "code",
   "execution_count": 9,
   "metadata": {
    "scrolled": true
   },
   "outputs": [
    {
     "name": "stdout",
     "output_type": "stream",
     "text": [
      "/ssd/samory/spacytutorial/env/bin/python3: No module named spacy\r\n"
     ]
    }
   ],
   "source": [
    "!python3 -m spacy download en_core_web_sm"
   ]
  },
  {
   "cell_type": "code",
   "execution_count": 10,
   "metadata": {},
   "outputs": [
    {
     "name": "stdout",
     "output_type": "stream",
     "text": [
      "/ssd/samory/spacytutorial/env/bin/python3: No module named spacy\r\n"
     ]
    }
   ],
   "source": [
    "!python3 -m spacy download en_core_web_md"
   ]
  },
  {
   "cell_type": "code",
   "execution_count": 4,
   "metadata": {},
   "outputs": [
    {
     "ename": "ImportError",
     "evalue": "cannot import name 'load_model_from_init_py'",
     "output_type": "error",
     "traceback": [
      "\u001b[0;31m---------------------------------------------------------------------------\u001b[0m",
      "\u001b[0;31mImportError\u001b[0m                               Traceback (most recent call last)",
      "\u001b[0;32m<ipython-input-4-ced878913ac4>\u001b[0m in \u001b[0;36m<module>\u001b[0;34m\u001b[0m\n\u001b[0;32m----> 1\u001b[0;31m \u001b[0;32mimport\u001b[0m \u001b[0men_core_web_md\u001b[0m\u001b[0;34m\u001b[0m\u001b[0m\n\u001b[0m\u001b[1;32m      2\u001b[0m \u001b[0mnlp\u001b[0m \u001b[0;34m=\u001b[0m \u001b[0men_core_web_md\u001b[0m\u001b[0;34m.\u001b[0m\u001b[0mload\u001b[0m\u001b[0;34m(\u001b[0m\u001b[0;34m)\u001b[0m\u001b[0;34m\u001b[0m\u001b[0m\n",
      "\u001b[0;32m/ssd/samory/spacytutorial/env/local/lib/python3.5/site-packages/en_core_web_md/__init__.py\u001b[0m in \u001b[0;36m<module>\u001b[0;34m\u001b[0m\n\u001b[1;32m      3\u001b[0m \u001b[0;34m\u001b[0m\u001b[0m\n\u001b[1;32m      4\u001b[0m \u001b[0;32mfrom\u001b[0m \u001b[0mpathlib\u001b[0m \u001b[0;32mimport\u001b[0m \u001b[0mPath\u001b[0m\u001b[0;34m\u001b[0m\u001b[0m\n\u001b[0;32m----> 5\u001b[0;31m \u001b[0;32mfrom\u001b[0m \u001b[0mspacy\u001b[0m\u001b[0;34m.\u001b[0m\u001b[0mutil\u001b[0m \u001b[0;32mimport\u001b[0m \u001b[0mload_model_from_init_py\u001b[0m\u001b[0;34m,\u001b[0m \u001b[0mget_model_meta\u001b[0m\u001b[0;34m\u001b[0m\u001b[0m\n\u001b[0m\u001b[1;32m      6\u001b[0m \u001b[0;34m\u001b[0m\u001b[0m\n\u001b[1;32m      7\u001b[0m \u001b[0;34m\u001b[0m\u001b[0m\n",
      "\u001b[0;31mImportError\u001b[0m: cannot import name 'load_model_from_init_py'"
     ]
    }
   ],
   "source": [
    "import en_core_web_md\n",
    "nlp = en_core_web_md.load()"
   ]
  },
  {
   "cell_type": "code",
   "execution_count": 5,
   "metadata": {},
   "outputs": [
    {
     "ename": "RuntimeError",
     "evalue": "Language not supported: en_core_web_sm",
     "output_type": "error",
     "traceback": [
      "\u001b[0;31m---------------------------------------------------------------------------\u001b[0m",
      "\u001b[0;31mRuntimeError\u001b[0m                              Traceback (most recent call last)",
      "\u001b[0;32m<ipython-input-5-e4c801bd61f2>\u001b[0m in \u001b[0;36m<module>\u001b[0;34m\u001b[0m\n\u001b[1;32m      1\u001b[0m \u001b[0;32mimport\u001b[0m \u001b[0mspacy\u001b[0m\u001b[0;34m\u001b[0m\u001b[0m\n\u001b[0;32m----> 2\u001b[0;31m \u001b[0mnlp\u001b[0m \u001b[0;34m=\u001b[0m \u001b[0mspacy\u001b[0m\u001b[0;34m.\u001b[0m\u001b[0mload\u001b[0m\u001b[0;34m(\u001b[0m\u001b[0;34m'en_core_web_sm'\u001b[0m\u001b[0;34m)\u001b[0m\u001b[0;34m\u001b[0m\u001b[0m\n\u001b[0m",
      "\u001b[0;32m/ssd/samory/spacytutorial/env/local/lib/python3.5/site-packages/spacy/__init__.py\u001b[0m in \u001b[0;36mload\u001b[0;34m(name, vocab, tokenizer, parser, tagger, entity, matcher, serializer, vectors, via)\u001b[0m\n\u001b[1;32m     13\u001b[0m def load(name, vocab=None, tokenizer=None, parser=None, tagger=None, entity=None,\n\u001b[1;32m     14\u001b[0m          matcher=None, serializer=None, vectors=None, via=None):\n\u001b[0;32m---> 15\u001b[0;31m     \u001b[0mpackage\u001b[0m \u001b[0;34m=\u001b[0m \u001b[0mget_package_by_name\u001b[0m\u001b[0;34m(\u001b[0m\u001b[0mname\u001b[0m\u001b[0;34m,\u001b[0m \u001b[0mvia\u001b[0m\u001b[0;34m=\u001b[0m\u001b[0mvia\u001b[0m\u001b[0;34m)\u001b[0m\u001b[0;34m\u001b[0m\u001b[0m\n\u001b[0m\u001b[1;32m     16\u001b[0m     \u001b[0mvectors_package\u001b[0m \u001b[0;34m=\u001b[0m \u001b[0mget_package_by_name\u001b[0m\u001b[0;34m(\u001b[0m\u001b[0mvectors\u001b[0m\u001b[0;34m,\u001b[0m \u001b[0mvia\u001b[0m\u001b[0;34m=\u001b[0m\u001b[0mvia\u001b[0m\u001b[0;34m)\u001b[0m\u001b[0;34m\u001b[0m\u001b[0m\n\u001b[1;32m     17\u001b[0m     \u001b[0mcls\u001b[0m \u001b[0;34m=\u001b[0m \u001b[0mget_lang_class\u001b[0m\u001b[0;34m(\u001b[0m\u001b[0mname\u001b[0m\u001b[0;34m)\u001b[0m\u001b[0;34m\u001b[0m\u001b[0m\n",
      "\u001b[0;32m/ssd/samory/spacytutorial/env/local/lib/python3.5/site-packages/spacy/util.py\u001b[0m in \u001b[0;36mget_package_by_name\u001b[0;34m(name, via)\u001b[0m\n\u001b[1;32m     39\u001b[0m     \u001b[0;32mif\u001b[0m \u001b[0mname\u001b[0m \u001b[0;32mis\u001b[0m \u001b[0;32mNone\u001b[0m\u001b[0;34m:\u001b[0m\u001b[0;34m\u001b[0m\u001b[0m\n\u001b[1;32m     40\u001b[0m         \u001b[0;32mreturn\u001b[0m\u001b[0;34m\u001b[0m\u001b[0m\n\u001b[0;32m---> 41\u001b[0;31m     \u001b[0mlang\u001b[0m \u001b[0;34m=\u001b[0m \u001b[0mget_lang_class\u001b[0m\u001b[0;34m(\u001b[0m\u001b[0mname\u001b[0m\u001b[0;34m)\u001b[0m\u001b[0;34m\u001b[0m\u001b[0m\n\u001b[0m\u001b[1;32m     42\u001b[0m     \u001b[0;32mtry\u001b[0m\u001b[0;34m:\u001b[0m\u001b[0;34m\u001b[0m\u001b[0m\n\u001b[1;32m     43\u001b[0m         return sputnik.package(about.__title__, about.__version__,\n",
      "\u001b[0;32m/ssd/samory/spacytutorial/env/local/lib/python3.5/site-packages/spacy/util.py\u001b[0m in \u001b[0;36mget_lang_class\u001b[0;34m(name)\u001b[0m\n\u001b[1;32m     26\u001b[0m     \u001b[0mlang\u001b[0m \u001b[0;34m=\u001b[0m \u001b[0mre\u001b[0m\u001b[0;34m.\u001b[0m\u001b[0msplit\u001b[0m\u001b[0;34m(\u001b[0m\u001b[0;34m'[^a-zA-Z0-9_]'\u001b[0m\u001b[0;34m,\u001b[0m \u001b[0mname\u001b[0m\u001b[0;34m,\u001b[0m \u001b[0;36m1\u001b[0m\u001b[0;34m)\u001b[0m\u001b[0;34m[\u001b[0m\u001b[0;36m0\u001b[0m\u001b[0;34m]\u001b[0m\u001b[0;34m\u001b[0m\u001b[0m\n\u001b[1;32m     27\u001b[0m     \u001b[0;32mif\u001b[0m \u001b[0mlang\u001b[0m \u001b[0;32mnot\u001b[0m \u001b[0;32min\u001b[0m \u001b[0mLANGUAGES\u001b[0m\u001b[0;34m:\u001b[0m\u001b[0;34m\u001b[0m\u001b[0m\n\u001b[0;32m---> 28\u001b[0;31m         \u001b[0;32mraise\u001b[0m \u001b[0mRuntimeError\u001b[0m\u001b[0;34m(\u001b[0m\u001b[0;34m'Language not supported: %s'\u001b[0m \u001b[0;34m%\u001b[0m \u001b[0mlang\u001b[0m\u001b[0;34m)\u001b[0m\u001b[0;34m\u001b[0m\u001b[0m\n\u001b[0m\u001b[1;32m     29\u001b[0m     \u001b[0;32mreturn\u001b[0m \u001b[0mLANGUAGES\u001b[0m\u001b[0;34m[\u001b[0m\u001b[0mlang\u001b[0m\u001b[0;34m]\u001b[0m\u001b[0;34m\u001b[0m\u001b[0m\n\u001b[1;32m     30\u001b[0m \u001b[0;34m\u001b[0m\u001b[0m\n",
      "\u001b[0;31mRuntimeError\u001b[0m: Language not supported: en_core_web_sm"
     ]
    }
   ],
   "source": [
    "import spacy\n",
    "nlp = spacy.load('en_core_web_sm')"
   ]
  },
  {
   "cell_type": "code",
   "execution_count": 9,
   "metadata": {
    "scrolled": true
   },
   "outputs": [],
   "source": [
    "# !pip install matplotlib pandas bs4"
   ]
  },
  {
   "cell_type": "code",
   "execution_count": 10,
   "metadata": {},
   "outputs": [
    {
     "name": "stdout",
     "output_type": "stream",
     "text": [
      "Populating the interactive namespace from numpy and matplotlib\n"
     ]
    }
   ],
   "source": [
    "import spacy\n",
    "from spacy import displacy\n",
    "import pandas as pd\n",
    "import re\n",
    "from bs4 import BeautifulSoup\n",
    "from collections import Counter\n",
    "from itertools import islice\n",
    "import numpy as np\n",
    "%pylab inline"
   ]
  },
  {
   "cell_type": "code",
   "execution_count": 11,
   "metadata": {},
   "outputs": [
    {
     "data": {
      "text/plain": [
       "'Why does Donald Trump always wear black suits? Because he is mourning for his brain.'"
      ]
     },
     "execution_count": 11,
     "metadata": {},
     "output_type": "execute_result"
    }
   ],
   "source": [
    "doc = \"Why does Donald Trump always wear black suits? Because he is mourning for his brain.\"\n",
    "doc"
   ]
  },
  {
   "cell_type": "code",
   "execution_count": 12,
   "metadata": {},
   "outputs": [
    {
     "data": {
      "text/plain": [
       "Why does Donald Trump always wear black suits? Because he is mourning for his brain."
      ]
     },
     "execution_count": 12,
     "metadata": {},
     "output_type": "execute_result"
    }
   ],
   "source": [
    "spacy_doc = nlp(doc)\n",
    "spacy_doc"
   ]
  },
  {
   "cell_type": "code",
   "execution_count": 13,
   "metadata": {},
   "outputs": [
    {
     "name": "stdout",
     "output_type": "stream",
     "text": [
      "Why\n",
      "does\n",
      "Donald\n",
      "Trump\n",
      "always\n",
      "wear\n",
      "black\n",
      "suits\n",
      "?\n",
      "Because\n",
      "he\n",
      "is\n",
      "mourning\n",
      "for\n",
      "his\n",
      "brain\n",
      ".\n"
     ]
    }
   ],
   "source": [
    "for token in spacy_doc:\n",
    "    print(token)"
   ]
  },
  {
   "cell_type": "code",
   "execution_count": 14,
   "metadata": {},
   "outputs": [
    {
     "name": "stdout",
     "output_type": "stream",
     "text": [
      "Why does Donald Trump always wear black suits?\n",
      "Because he is mourning for his brain.\n"
     ]
    }
   ],
   "source": [
    "for sentence in spacy_doc.sents:\n",
    "    print(sentence)"
   ]
  },
  {
   "cell_type": "code",
   "execution_count": 15,
   "metadata": {},
   "outputs": [
    {
     "data": {
      "text/plain": [
       "(Donald Trump,)"
      ]
     },
     "execution_count": 15,
     "metadata": {},
     "output_type": "execute_result"
    }
   ],
   "source": [
    "spacy_doc.ents"
   ]
  },
  {
   "cell_type": "markdown",
   "metadata": {},
   "source": [
    "## How spaCy represents text (data structures)"
   ]
  },
  {
   "cell_type": "code",
   "execution_count": 16,
   "metadata": {},
   "outputs": [
    {
     "name": "stdout",
     "output_type": "stream",
     "text": [
      "Why does Donald Trump always wear black suits? Because he is mourning for his brain. <class 'spacy.tokens.doc.Doc'>\n",
      "Why does Donald Trump always wear black suits? Because he is mourning for his brain. <class 'spacy.tokens.span.Span'>\n",
      "Why <class 'spacy.tokens.token.Token'>\n"
     ]
    }
   ],
   "source": [
    "print(spacy_doc, type(spacy_doc), )\n",
    "print(spacy_doc[:], type(spacy_doc[:]),)\n",
    "print(spacy_doc[0], type(spacy_doc[0]), )\n"
   ]
  },
  {
   "cell_type": "code",
   "execution_count": 17,
   "metadata": {},
   "outputs": [
    {
     "data": {
      "text/plain": [
       "spacy.tokens.span.Span"
      ]
     },
     "execution_count": 17,
     "metadata": {},
     "output_type": "execute_result"
    }
   ],
   "source": [
    "type(list(spacy_doc.sents)[0])"
   ]
  },
  {
   "cell_type": "code",
   "execution_count": 18,
   "metadata": {},
   "outputs": [
    {
     "data": {
      "text/html": [
       "<span class=\"tex2jax_ignore\"><svg xmlns=\"http://www.w3.org/2000/svg\" xmlns:xlink=\"http://www.w3.org/1999/xlink\" xml:lang=\"en\" id=\"140f2e874ae644008b9befd68a14cc40-0\" class=\"displacy\" width=\"1250\" height=\"437.0\" direction=\"ltr\" style=\"max-width: none; height: 437.0px; color: white; background: #09a3d5; font-family: Arial; direction: ltr\">\n",
       "<text class=\"displacy-token\" fill=\"currentColor\" text-anchor=\"middle\" y=\"347.0\">\n",
       "    <tspan class=\"displacy-word\" fill=\"currentColor\" x=\"50\">Why</tspan>\n",
       "    <tspan class=\"displacy-tag\" dy=\"2em\" fill=\"currentColor\" x=\"50\">ADV</tspan>\n",
       "</text>\n",
       "\n",
       "<text class=\"displacy-token\" fill=\"currentColor\" text-anchor=\"middle\" y=\"347.0\">\n",
       "    <tspan class=\"displacy-word\" fill=\"currentColor\" x=\"200\">does</tspan>\n",
       "    <tspan class=\"displacy-tag\" dy=\"2em\" fill=\"currentColor\" x=\"200\">AUX</tspan>\n",
       "</text>\n",
       "\n",
       "<text class=\"displacy-token\" fill=\"currentColor\" text-anchor=\"middle\" y=\"347.0\">\n",
       "    <tspan class=\"displacy-word\" fill=\"currentColor\" x=\"350\">Donald</tspan>\n",
       "    <tspan class=\"displacy-tag\" dy=\"2em\" fill=\"currentColor\" x=\"350\">PROPN</tspan>\n",
       "</text>\n",
       "\n",
       "<text class=\"displacy-token\" fill=\"currentColor\" text-anchor=\"middle\" y=\"347.0\">\n",
       "    <tspan class=\"displacy-word\" fill=\"currentColor\" x=\"500\">Trump</tspan>\n",
       "    <tspan class=\"displacy-tag\" dy=\"2em\" fill=\"currentColor\" x=\"500\">PROPN</tspan>\n",
       "</text>\n",
       "\n",
       "<text class=\"displacy-token\" fill=\"currentColor\" text-anchor=\"middle\" y=\"347.0\">\n",
       "    <tspan class=\"displacy-word\" fill=\"currentColor\" x=\"650\">always</tspan>\n",
       "    <tspan class=\"displacy-tag\" dy=\"2em\" fill=\"currentColor\" x=\"650\">ADV</tspan>\n",
       "</text>\n",
       "\n",
       "<text class=\"displacy-token\" fill=\"currentColor\" text-anchor=\"middle\" y=\"347.0\">\n",
       "    <tspan class=\"displacy-word\" fill=\"currentColor\" x=\"800\">wear</tspan>\n",
       "    <tspan class=\"displacy-tag\" dy=\"2em\" fill=\"currentColor\" x=\"800\">VERB</tspan>\n",
       "</text>\n",
       "\n",
       "<text class=\"displacy-token\" fill=\"currentColor\" text-anchor=\"middle\" y=\"347.0\">\n",
       "    <tspan class=\"displacy-word\" fill=\"currentColor\" x=\"950\">black</tspan>\n",
       "    <tspan class=\"displacy-tag\" dy=\"2em\" fill=\"currentColor\" x=\"950\">ADJ</tspan>\n",
       "</text>\n",
       "\n",
       "<text class=\"displacy-token\" fill=\"currentColor\" text-anchor=\"middle\" y=\"347.0\">\n",
       "    <tspan class=\"displacy-word\" fill=\"currentColor\" x=\"1100\">suits?</tspan>\n",
       "    <tspan class=\"displacy-tag\" dy=\"2em\" fill=\"currentColor\" x=\"1100\">NOUN</tspan>\n",
       "</text>\n",
       "\n",
       "<g class=\"displacy-arrow\">\n",
       "    <path class=\"displacy-arc\" id=\"arrow-140f2e874ae644008b9befd68a14cc40-0-0\" stroke-width=\"2px\" d=\"M62,302.0 62,202.0 800.0,202.0 800.0,302.0\" fill=\"none\" stroke=\"currentColor\"/>\n",
       "    <text dy=\"1.25em\" style=\"font-size: 0.8em; letter-spacing: 1px\">\n",
       "        <textPath xlink:href=\"#arrow-140f2e874ae644008b9befd68a14cc40-0-0\" class=\"displacy-label\" startOffset=\"50%\" side=\"left\" fill=\"currentColor\" text-anchor=\"middle\">advmod</textPath>\n",
       "    </text>\n",
       "    <path class=\"displacy-arrowhead\" d=\"M62,304.0 L58,296.0 66,296.0\" fill=\"currentColor\"/>\n",
       "</g>\n",
       "\n",
       "<g class=\"displacy-arrow\">\n",
       "    <path class=\"displacy-arc\" id=\"arrow-140f2e874ae644008b9befd68a14cc40-0-1\" stroke-width=\"2px\" d=\"M212,302.0 212,227.0 797.0,227.0 797.0,302.0\" fill=\"none\" stroke=\"currentColor\"/>\n",
       "    <text dy=\"1.25em\" style=\"font-size: 0.8em; letter-spacing: 1px\">\n",
       "        <textPath xlink:href=\"#arrow-140f2e874ae644008b9befd68a14cc40-0-1\" class=\"displacy-label\" startOffset=\"50%\" side=\"left\" fill=\"currentColor\" text-anchor=\"middle\">aux</textPath>\n",
       "    </text>\n",
       "    <path class=\"displacy-arrowhead\" d=\"M212,304.0 L208,296.0 216,296.0\" fill=\"currentColor\"/>\n",
       "</g>\n",
       "\n",
       "<g class=\"displacy-arrow\">\n",
       "    <path class=\"displacy-arc\" id=\"arrow-140f2e874ae644008b9befd68a14cc40-0-2\" stroke-width=\"2px\" d=\"M362,302.0 362,277.0 491.0,277.0 491.0,302.0\" fill=\"none\" stroke=\"currentColor\"/>\n",
       "    <text dy=\"1.25em\" style=\"font-size: 0.8em; letter-spacing: 1px\">\n",
       "        <textPath xlink:href=\"#arrow-140f2e874ae644008b9befd68a14cc40-0-2\" class=\"displacy-label\" startOffset=\"50%\" side=\"left\" fill=\"currentColor\" text-anchor=\"middle\">compound</textPath>\n",
       "    </text>\n",
       "    <path class=\"displacy-arrowhead\" d=\"M362,304.0 L358,296.0 366,296.0\" fill=\"currentColor\"/>\n",
       "</g>\n",
       "\n",
       "<g class=\"displacy-arrow\">\n",
       "    <path class=\"displacy-arc\" id=\"arrow-140f2e874ae644008b9befd68a14cc40-0-3\" stroke-width=\"2px\" d=\"M512,302.0 512,252.0 794.0,252.0 794.0,302.0\" fill=\"none\" stroke=\"currentColor\"/>\n",
       "    <text dy=\"1.25em\" style=\"font-size: 0.8em; letter-spacing: 1px\">\n",
       "        <textPath xlink:href=\"#arrow-140f2e874ae644008b9befd68a14cc40-0-3\" class=\"displacy-label\" startOffset=\"50%\" side=\"left\" fill=\"currentColor\" text-anchor=\"middle\">nsubj</textPath>\n",
       "    </text>\n",
       "    <path class=\"displacy-arrowhead\" d=\"M512,304.0 L508,296.0 516,296.0\" fill=\"currentColor\"/>\n",
       "</g>\n",
       "\n",
       "<g class=\"displacy-arrow\">\n",
       "    <path class=\"displacy-arc\" id=\"arrow-140f2e874ae644008b9befd68a14cc40-0-4\" stroke-width=\"2px\" d=\"M662,302.0 662,277.0 791.0,277.0 791.0,302.0\" fill=\"none\" stroke=\"currentColor\"/>\n",
       "    <text dy=\"1.25em\" style=\"font-size: 0.8em; letter-spacing: 1px\">\n",
       "        <textPath xlink:href=\"#arrow-140f2e874ae644008b9befd68a14cc40-0-4\" class=\"displacy-label\" startOffset=\"50%\" side=\"left\" fill=\"currentColor\" text-anchor=\"middle\">advmod</textPath>\n",
       "    </text>\n",
       "    <path class=\"displacy-arrowhead\" d=\"M662,304.0 L658,296.0 666,296.0\" fill=\"currentColor\"/>\n",
       "</g>\n",
       "\n",
       "<g class=\"displacy-arrow\">\n",
       "    <path class=\"displacy-arc\" id=\"arrow-140f2e874ae644008b9befd68a14cc40-0-5\" stroke-width=\"2px\" d=\"M962,302.0 962,277.0 1091.0,277.0 1091.0,302.0\" fill=\"none\" stroke=\"currentColor\"/>\n",
       "    <text dy=\"1.25em\" style=\"font-size: 0.8em; letter-spacing: 1px\">\n",
       "        <textPath xlink:href=\"#arrow-140f2e874ae644008b9befd68a14cc40-0-5\" class=\"displacy-label\" startOffset=\"50%\" side=\"left\" fill=\"currentColor\" text-anchor=\"middle\">amod</textPath>\n",
       "    </text>\n",
       "    <path class=\"displacy-arrowhead\" d=\"M962,304.0 L958,296.0 966,296.0\" fill=\"currentColor\"/>\n",
       "</g>\n",
       "\n",
       "<g class=\"displacy-arrow\">\n",
       "    <path class=\"displacy-arc\" id=\"arrow-140f2e874ae644008b9befd68a14cc40-0-6\" stroke-width=\"2px\" d=\"M812,302.0 812,252.0 1094.0,252.0 1094.0,302.0\" fill=\"none\" stroke=\"currentColor\"/>\n",
       "    <text dy=\"1.25em\" style=\"font-size: 0.8em; letter-spacing: 1px\">\n",
       "        <textPath xlink:href=\"#arrow-140f2e874ae644008b9befd68a14cc40-0-6\" class=\"displacy-label\" startOffset=\"50%\" side=\"left\" fill=\"currentColor\" text-anchor=\"middle\">dobj</textPath>\n",
       "    </text>\n",
       "    <path class=\"displacy-arrowhead\" d=\"M1094.0,304.0 L1098.0,296.0 1090.0,296.0\" fill=\"currentColor\"/>\n",
       "</g>\n",
       "</svg></span>"
      ],
      "text/plain": [
       "<IPython.core.display.HTML object>"
      ]
     },
     "metadata": {},
     "output_type": "display_data"
    }
   ],
   "source": [
    "displacy.render(list(spacy_doc.sents)[0], \n",
    "                style=\"dep\", \n",
    "                options = {\"compact\": True, \n",
    "                           \"bg\": \"#09a3d5\",\n",
    "                           \"color\": \"white\", })"
   ]
  },
  {
   "cell_type": "code",
   "execution_count": 19,
   "metadata": {},
   "outputs": [
    {
     "data": {
      "text/html": [
       "<span class=\"tex2jax_ignore\"><div class=\"entities\" style=\"line-height: 2.5; direction: ltr\">Why does \n",
       "<mark class=\"entity\" style=\"background: #aa9cfc; padding: 0.45em 0.6em; margin: 0 0.25em; line-height: 1; border-radius: 0.35em;\">\n",
       "    Donald Trump\n",
       "    <span style=\"font-size: 0.8em; font-weight: bold; line-height: 1; border-radius: 0.35em; text-transform: uppercase; vertical-align: middle; margin-left: 0.5rem\">PERSON</span>\n",
       "</mark>\n",
       " always wear black suits? </div></span>"
      ],
      "text/plain": [
       "<IPython.core.display.HTML object>"
      ]
     },
     "metadata": {},
     "output_type": "display_data"
    }
   ],
   "source": [
    "displacy.render(list(spacy_doc.sents)[0], \n",
    "                style=\"ent\", )"
   ]
  },
  {
   "cell_type": "markdown",
   "metadata": {},
   "source": [
    "### Exploring tokens"
   ]
  },
  {
   "cell_type": "code",
   "execution_count": 20,
   "metadata": {},
   "outputs": [],
   "source": [
    "token = spacy_doc[3]"
   ]
  },
  {
   "cell_type": "code",
   "execution_count": 21,
   "metadata": {},
   "outputs": [
    {
     "data": {
      "text/plain": [
       "['_',\n",
       " '__bytes__',\n",
       " '__class__',\n",
       " '__delattr__',\n",
       " '__dir__',\n",
       " '__doc__',\n",
       " '__eq__',\n",
       " '__format__',\n",
       " '__ge__',\n",
       " '__getattribute__',\n",
       " '__gt__',\n",
       " '__hash__',\n",
       " '__init__',\n",
       " '__le__',\n",
       " '__len__',\n",
       " '__lt__',\n",
       " '__ne__',\n",
       " '__new__',\n",
       " '__pyx_vtable__',\n",
       " '__reduce__',\n",
       " '__reduce_ex__',\n",
       " '__repr__',\n",
       " '__setattr__',\n",
       " '__sizeof__',\n",
       " '__str__',\n",
       " '__subclasshook__',\n",
       " '__unicode__',\n",
       " 'ancestors',\n",
       " 'check_flag',\n",
       " 'children',\n",
       " 'cluster',\n",
       " 'conjuncts',\n",
       " 'dep',\n",
       " 'dep_',\n",
       " 'doc',\n",
       " 'ent_id',\n",
       " 'ent_id_',\n",
       " 'ent_iob',\n",
       " 'ent_iob_',\n",
       " 'ent_kb_id',\n",
       " 'ent_kb_id_',\n",
       " 'ent_type',\n",
       " 'ent_type_',\n",
       " 'get_extension',\n",
       " 'has_extension',\n",
       " 'has_vector',\n",
       " 'head',\n",
       " 'i',\n",
       " 'idx',\n",
       " 'is_alpha',\n",
       " 'is_ancestor',\n",
       " 'is_ascii',\n",
       " 'is_bracket',\n",
       " 'is_currency',\n",
       " 'is_digit',\n",
       " 'is_left_punct',\n",
       " 'is_lower',\n",
       " 'is_oov',\n",
       " 'is_punct',\n",
       " 'is_quote',\n",
       " 'is_right_punct',\n",
       " 'is_sent_end',\n",
       " 'is_sent_start',\n",
       " 'is_space',\n",
       " 'is_stop',\n",
       " 'is_title',\n",
       " 'is_upper',\n",
       " 'lang',\n",
       " 'lang_',\n",
       " 'left_edge',\n",
       " 'lefts',\n",
       " 'lemma',\n",
       " 'lemma_',\n",
       " 'lex_id',\n",
       " 'like_email',\n",
       " 'like_num',\n",
       " 'like_url',\n",
       " 'lower',\n",
       " 'lower_',\n",
       " 'morph',\n",
       " 'n_lefts',\n",
       " 'n_rights',\n",
       " 'nbor',\n",
       " 'norm',\n",
       " 'norm_',\n",
       " 'orth',\n",
       " 'orth_',\n",
       " 'pos',\n",
       " 'pos_',\n",
       " 'prefix',\n",
       " 'prefix_',\n",
       " 'prob',\n",
       " 'rank',\n",
       " 'remove_extension',\n",
       " 'right_edge',\n",
       " 'rights',\n",
       " 'sent',\n",
       " 'sent_start',\n",
       " 'sentiment',\n",
       " 'set_extension',\n",
       " 'shape',\n",
       " 'shape_',\n",
       " 'similarity',\n",
       " 'string',\n",
       " 'subtree',\n",
       " 'suffix',\n",
       " 'suffix_',\n",
       " 'tag',\n",
       " 'tag_',\n",
       " 'tensor',\n",
       " 'text',\n",
       " 'text_with_ws',\n",
       " 'vector',\n",
       " 'vector_norm',\n",
       " 'vocab',\n",
       " 'whitespace_']"
      ]
     },
     "execution_count": 21,
     "metadata": {},
     "output_type": "execute_result"
    }
   ],
   "source": [
    "dir(token)"
   ]
  },
  {
   "cell_type": "code",
   "execution_count": 22,
   "metadata": {
    "scrolled": true
   },
   "outputs": [
    {
     "data": {
      "text/plain": [
       "['ancestors',\n",
       " 'check_flag',\n",
       " 'children',\n",
       " 'cluster',\n",
       " 'conjuncts',\n",
       " 'dep',\n",
       " 'dep_',\n",
       " 'doc',\n",
       " 'ent_id',\n",
       " 'ent_id_',\n",
       " 'ent_iob',\n",
       " 'ent_iob_',\n",
       " 'ent_kb_id',\n",
       " 'ent_kb_id_',\n",
       " 'ent_type',\n",
       " 'ent_type_',\n",
       " 'get_extension',\n",
       " 'has_extension',\n",
       " 'has_vector',\n",
       " 'head',\n",
       " 'i',\n",
       " 'idx',\n",
       " 'is_alpha',\n",
       " 'is_ancestor',\n",
       " 'is_ascii',\n",
       " 'is_bracket',\n",
       " 'is_currency',\n",
       " 'is_digit',\n",
       " 'is_left_punct',\n",
       " 'is_lower',\n",
       " 'is_oov',\n",
       " 'is_punct',\n",
       " 'is_quote',\n",
       " 'is_right_punct',\n",
       " 'is_sent_end',\n",
       " 'is_sent_start',\n",
       " 'is_space',\n",
       " 'is_stop',\n",
       " 'is_title',\n",
       " 'is_upper',\n",
       " 'lang',\n",
       " 'lang_',\n",
       " 'left_edge',\n",
       " 'lefts',\n",
       " 'lemma',\n",
       " 'lemma_',\n",
       " 'lex_id',\n",
       " 'like_email',\n",
       " 'like_num',\n",
       " 'like_url',\n",
       " 'lower',\n",
       " 'lower_',\n",
       " 'morph',\n",
       " 'n_lefts',\n",
       " 'n_rights',\n",
       " 'nbor',\n",
       " 'norm',\n",
       " 'norm_',\n",
       " 'orth',\n",
       " 'orth_',\n",
       " 'pos',\n",
       " 'pos_',\n",
       " 'prefix',\n",
       " 'prefix_',\n",
       " 'prob',\n",
       " 'rank',\n",
       " 'remove_extension',\n",
       " 'right_edge',\n",
       " 'rights',\n",
       " 'sent',\n",
       " 'sent_start',\n",
       " 'sentiment',\n",
       " 'set_extension',\n",
       " 'shape',\n",
       " 'shape_',\n",
       " 'similarity',\n",
       " 'string',\n",
       " 'subtree',\n",
       " 'suffix',\n",
       " 'suffix_',\n",
       " 'tag',\n",
       " 'tag_',\n",
       " 'tensor',\n",
       " 'text',\n",
       " 'text_with_ws',\n",
       " 'vector',\n",
       " 'vector_norm',\n",
       " 'vocab',\n",
       " 'whitespace_']"
      ]
     },
     "execution_count": 22,
     "metadata": {},
     "output_type": "execute_result"
    }
   ],
   "source": [
    "list(filter(lambda x: not x.startswith(\"_\"),  dir(token)))"
   ]
  },
  {
   "cell_type": "markdown",
   "metadata": {},
   "source": [
    "if you get lost:"
   ]
  },
  {
   "cell_type": "code",
   "execution_count": 23,
   "metadata": {},
   "outputs": [
    {
     "data": {
      "text/plain": [
       "Why does Donald Trump always wear black suits? Because he is mourning for his brain."
      ]
     },
     "execution_count": 23,
     "metadata": {},
     "output_type": "execute_result"
    }
   ],
   "source": [
    "token.doc"
   ]
  },
  {
   "cell_type": "code",
   "execution_count": 24,
   "metadata": {},
   "outputs": [],
   "source": [
    "assert token == spacy_doc[token.i]"
   ]
  },
  {
   "cell_type": "code",
   "execution_count": 25,
   "metadata": {},
   "outputs": [
    {
     "data": {
      "text/plain": [
       "'Trump'"
      ]
     },
     "execution_count": 25,
     "metadata": {},
     "output_type": "execute_result"
    }
   ],
   "source": [
    "token.text"
   ]
  },
  {
   "cell_type": "code",
   "execution_count": 26,
   "metadata": {},
   "outputs": [
    {
     "data": {
      "text/plain": [
       "(96, 'PROPN')"
      ]
     },
     "execution_count": 26,
     "metadata": {},
     "output_type": "execute_result"
    }
   ],
   "source": [
    "token.pos, token.pos_"
   ]
  },
  {
   "cell_type": "code",
   "execution_count": 27,
   "metadata": {},
   "outputs": [
    {
     "data": {
      "text/plain": [
       "-20.0"
      ]
     },
     "execution_count": 27,
     "metadata": {},
     "output_type": "execute_result"
    }
   ],
   "source": [
    "token.prob"
   ]
  },
  {
   "cell_type": "code",
   "execution_count": 28,
   "metadata": {},
   "outputs": [
    {
     "data": {
      "text/plain": [
       "array([-4.2175e-01,  1.8711e-01,  3.4765e-01, -2.8588e-01, -8.3932e-02,\n",
       "        1.1277e-02,  2.1249e-02,  2.6343e-01,  2.2187e-01,  1.1753e+00,\n",
       "       -9.2204e-02, -6.5978e-01,  1.4032e-01,  1.9669e-01,  5.0662e-02,\n",
       "        1.1238e-01, -4.0031e-01, -3.4718e-01,  1.0501e-02,  1.9059e-01,\n",
       "        4.7089e-02,  1.2648e-01,  1.2395e-01, -1.4647e-01,  4.9865e-01,\n",
       "        9.0596e-02, -2.4599e-01, -8.2896e-02, -3.2482e-01, -1.5548e-03,\n",
       "        1.3087e-01,  2.1520e-01,  1.9742e-01,  1.2051e-01,  4.5222e-01,\n",
       "        4.4882e-01,  1.0680e-01,  1.3475e-02, -3.2072e-01,  6.2445e-02,\n",
       "       -4.8712e-01, -1.6536e-01, -2.8725e-01,  6.0925e-01, -1.3591e-01,\n",
       "        9.0801e-03, -2.9597e-01, -3.1342e-01,  1.7717e-02,  3.7069e-01,\n",
       "        1.5938e-01,  5.0631e-01, -3.2633e-03, -3.1040e-01, -5.2806e-01,\n",
       "        1.9271e-01,  8.9184e-02,  4.7455e-01,  4.1562e-02, -2.1373e-01,\n",
       "       -3.6329e-01,  3.6512e-01,  9.2584e-02, -5.3587e-01,  2.7139e-01,\n",
       "       -2.7306e-02, -6.8992e-02,  8.2103e-02,  2.1897e-02, -4.7422e-01,\n",
       "       -8.2076e-02,  9.6891e-02,  5.0067e-01,  3.6488e-01, -6.9029e-02,\n",
       "       -5.5823e-02, -1.4041e-01,  2.0366e-01,  1.8341e-01,  3.0023e-01,\n",
       "       -4.0206e-01, -1.6848e-01,  1.0981e-01,  3.3041e-01,  2.2164e-01,\n",
       "        3.4078e-01,  3.0367e-01, -1.7314e-01,  2.0866e-02, -5.0060e-01,\n",
       "       -3.4648e-01,  1.0505e-01, -2.8792e-01, -1.2982e-01,  3.4894e-01,\n",
       "       -2.9238e-01,  3.4991e-01,  1.9146e-01, -3.4376e-01,  8.5781e-03,\n",
       "        2.7653e-02,  1.0018e-02,  3.1870e-01,  3.1614e-01, -3.8035e-02,\n",
       "       -1.6582e+00, -9.2105e-02, -3.8924e-02, -3.0471e-01,  2.2002e-01,\n",
       "        4.8545e-01,  3.1739e-01, -1.8562e-01, -2.3046e-01,  4.6183e-01,\n",
       "        2.4666e-02,  3.5099e-01, -1.4219e-01,  2.3106e-01, -4.1459e-01,\n",
       "        3.1811e-02,  2.7204e-01, -1.9268e-01,  7.7654e-01, -1.6157e-01,\n",
       "        6.7347e-03, -3.5363e-01,  6.9163e-02, -3.0748e-01, -2.4021e-01,\n",
       "       -1.9117e-01,  4.2879e-02, -1.6129e-02, -6.1180e-01, -2.5197e-01,\n",
       "       -2.6410e-01,  1.0870e-01, -8.0083e-02, -8.6364e-02, -2.4056e-01,\n",
       "       -9.9507e-01,  3.4395e-02, -1.2520e-01,  1.1881e-01, -2.4440e-01,\n",
       "        1.3394e-01,  1.3732e-01,  3.4638e-01,  3.0239e-01,  8.7165e-02,\n",
       "        5.0108e-01, -6.1747e-01,  4.2844e-01,  3.7498e-01,  2.8815e-01,\n",
       "       -4.3111e-01, -6.8004e-01, -9.9601e-02, -2.0066e-01,  5.5751e-01,\n",
       "        2.9883e-01,  5.2554e-02, -3.5418e-01,  1.0617e-01, -2.1368e-01,\n",
       "       -2.3214e-01,  5.9335e-01, -1.0224e-01,  2.4222e-02,  1.2823e-01,\n",
       "       -6.7405e-01,  7.4106e-02,  7.4577e-01,  3.2601e-01,  5.1371e-01,\n",
       "        1.2145e-01,  1.9121e-01, -3.2106e-01,  1.5905e-01,  1.6715e-01,\n",
       "        2.0054e-01, -3.2313e-01,  4.4729e-01, -5.5856e-02,  2.7500e-01,\n",
       "        3.3805e-01,  1.5119e-01, -2.6632e-01,  4.7327e-03,  5.3266e-02,\n",
       "        1.7287e-01, -4.8475e-01, -7.7259e-02, -1.8441e-01,  2.5852e-01,\n",
       "        1.2288e-02, -3.3684e-01,  1.6398e-01,  2.6542e-01,  2.2127e-01,\n",
       "       -6.4270e-02, -4.8383e-01, -1.8630e-01, -3.2003e-01, -3.9254e-01,\n",
       "       -2.9031e-01, -2.2726e-01,  2.9515e-01,  2.5215e-01, -3.7215e-03,\n",
       "       -5.2100e-01,  4.1253e-01,  1.3188e-01,  2.6781e-01,  3.3395e-01,\n",
       "        4.0616e-01,  4.2701e-02, -4.0490e-02,  1.8101e-02,  1.1772e-01,\n",
       "       -3.9378e-01, -1.8028e-01, -3.8873e-01, -2.4354e-01,  1.1209e-01,\n",
       "       -1.0299e-01, -2.7283e-01,  2.9488e-01, -2.3536e-01,  9.8930e-02,\n",
       "        8.6139e-02,  7.0118e-02,  2.8129e-02, -4.4809e-01, -4.1640e-01,\n",
       "        2.6429e-02,  4.2930e-01, -3.0887e-01,  1.1238e-01, -1.2618e-01,\n",
       "        7.9624e-02, -2.2948e-01,  6.7513e-02, -1.8773e-01, -6.1122e-02,\n",
       "       -3.5994e-01, -6.4104e-02,  1.3646e-01, -1.3665e-01, -1.4591e-01,\n",
       "       -2.0899e-01,  1.6479e-01, -6.1316e-01, -5.2092e-01, -2.9891e-01,\n",
       "        1.2632e-01, -2.4632e-01, -2.5786e-01, -2.1388e-02, -4.3253e-01,\n",
       "        1.5186e-02,  1.4724e-01, -3.4728e-01,  1.5763e-01,  1.5016e-01,\n",
       "       -4.2161e-02,  1.5774e-01, -1.9835e-02, -2.3119e-01, -5.0471e-03,\n",
       "       -5.5374e-01,  2.9438e-01,  1.9619e-01,  6.0137e-01,  2.1243e-01,\n",
       "       -4.4214e-01,  1.5362e-01, -8.6260e-02, -3.9168e-02, -6.1137e-02,\n",
       "        2.8389e-01, -3.8840e-01,  2.2188e-01,  3.0302e-01, -7.6419e-02,\n",
       "        2.8784e-01, -5.7824e-01,  5.3565e-02, -1.9988e-02, -1.7654e-01,\n",
       "       -1.8096e-01,  3.0150e-01, -6.3588e-01, -1.5034e-01,  2.2338e-01,\n",
       "        7.8862e-01, -1.0651e-03, -5.2660e-01,  5.2599e-01,  2.3641e-01],\n",
       "      dtype=float32)"
      ]
     },
     "execution_count": 28,
     "metadata": {},
     "output_type": "execute_result"
    }
   ],
   "source": [
    "token.vector"
   ]
  },
  {
   "cell_type": "markdown",
   "metadata": {},
   "source": [
    "### Notable Spans"
   ]
  },
  {
   "cell_type": "code",
   "execution_count": 29,
   "metadata": {},
   "outputs": [
    {
     "name": "stdout",
     "output_type": "stream",
     "text": [
      "Donald Trump is an entity of type PERSON\n"
     ]
    }
   ],
   "source": [
    "for entity in spacy_doc.ents:\n",
    "    print(\"{} is an entity of type {}\".format(entity, entity.label_))\n"
   ]
  },
  {
   "cell_type": "code",
   "execution_count": 30,
   "metadata": {
    "scrolled": true
   },
   "outputs": [
    {
     "name": "stdout",
     "output_type": "stream",
     "text": [
      "Donald Trump\n",
      "black suits\n",
      "he\n",
      "his brain\n"
     ]
    }
   ],
   "source": [
    "for noun_phrase in spacy_doc.noun_chunks:\n",
    "    print(noun_phrase)"
   ]
  },
  {
   "cell_type": "markdown",
   "metadata": {},
   "source": [
    "## Extensions"
   ]
  },
  {
   "cell_type": "code",
   "execution_count": 1,
   "metadata": {
    "scrolled": true
   },
   "outputs": [
    {
     "name": "stdout",
     "output_type": "stream",
     "text": [
      "Found existing installation: neuralcoref 4.0\n",
      "Uninstalling neuralcoref-4.0:\n",
      "  Successfully uninstalled neuralcoref-4.0\n"
     ]
    }
   ],
   "source": [
    "# !pip3 uninstall -y neuralcoref\n",
    "# !pip3 install neuralcoref --no-binary neuralcoref"
   ]
  },
  {
   "cell_type": "code",
   "execution_count": 11,
   "metadata": {},
   "outputs": [
    {
     "name": "stdout",
     "output_type": "stream",
     "text": [
      "Found existing installation: sense2vec 0.6.0\r\n",
      "Uninstalling sense2vec-0.6.0:\r\n",
      "  Successfully uninstalled sense2vec-0.6.0\r\n"
     ]
    }
   ],
   "source": [
    "# !pip3 uninstall -y sense2vec"
   ]
  },
  {
   "cell_type": "code",
   "execution_count": null,
   "metadata": {},
   "outputs": [
    {
     "name": "stderr",
     "output_type": "stream",
     "text": [
      "/ssd/samory/spacytutorial/env/lib/python3.5/importlib/_bootstrap.py:222: RuntimeWarning: spacy.morphology.Morphology size changed, may indicate binary incompatibility. Expected 104 from C header, got 112 from PyObject\n",
      "  return f(*args, **kwds)\n",
      "/ssd/samory/spacytutorial/env/lib/python3.5/importlib/_bootstrap.py:222: RuntimeWarning: spacy.vocab.Vocab size changed, may indicate binary incompatibility. Expected 96 from C header, got 112 from PyObject\n",
      "  return f(*args, **kwds)\n",
      "/ssd/samory/spacytutorial/env/lib/python3.5/importlib/_bootstrap.py:222: RuntimeWarning: spacy.tokens.span.Span size changed, may indicate binary incompatibility. Expected 72 from C header, got 80 from PyObject\n",
      "  return f(*args, **kwds)\n"
     ]
    }
   ],
   "source": []
  },
  {
   "cell_type": "code",
   "execution_count": null,
   "metadata": {},
   "outputs": [],
   "source": [
    "from spacy.pipeline import EntityRuler\n",
    "\n",
    "ruler = EntityRuler(nlp)\n",
    "patterns = [{\"label\": \"ORG\", \"pattern\": \"Apple\", \"id\": \"apple\"},\n",
    "            {\"label\": \"GPE\", \"pattern\": [{\"LOWER\": \"san\"}, {\"LOWER\": \"francisco\"}], \"id\": \"san-francisco\"},\n",
    "            {\"label\": \"GPE\", \"pattern\": [{\"LOWER\": \"san\"}, {\"LOWER\": \"fran\"}], \"id\": \"san-francisco\"}]\n",
    "ruler.add_patterns(patterns)\n",
    "nlp.add_pipe(ruler)\n",
    "\n",
    "doc1 = nlp(\"Apple is opening its first big office in San Francisco.\")\n",
    "print([(ent.text, ent.label_, ent.ent_id_) for ent in doc1.ents])\n",
    "\n",
    "doc2 = nlp(\"Apple is opening its first big office in San Fran.\")\n",
    "print([(ent.text, ent.label_, ent.ent_id_) for ent in doc2.ents])"
   ]
  },
  {
   "cell_type": "markdown",
   "metadata": {},
   "source": [
    "## Example data exploration"
   ]
  },
  {
   "cell_type": "markdown",
   "metadata": {},
   "source": [
    "some real data from https://osf.io/qhm5z/\n",
    "\n",
    "> Clarke I, Grieve J (2019) Stylistic variation on the Donald Trump Twitter account: A linguistic analysis of tweets posted between 2009 and 2018. PLoS ONE 14(9): e0222062.  \n",
    "\n",
    "[Link to the paper](https://doi.org/10.1371/journal.pone.0222062)"
   ]
  },
  {
   "cell_type": "code",
   "execution_count": 24,
   "metadata": {},
   "outputs": [
    {
     "name": "stdout",
     "output_type": "stream",
     "text": [
      "--2020-07-13 19:00:06--  https://osf.io/jw5ad/download\n",
      "Resolving osf.io (osf.io)... 35.190.84.173\n",
      "Connecting to osf.io (osf.io)|35.190.84.173|:443... connected.\n",
      "HTTP request sent, awaiting response... 302 FOUND\n",
      "Location: https://files.osf.io/v1/resources/qhm5z/providers/osfstorage/5d9104ffc43280001cc66d53?action=download&direct&version=1 [following]\n",
      "--2020-07-13 19:00:07--  https://files.osf.io/v1/resources/qhm5z/providers/osfstorage/5d9104ffc43280001cc66d53?action=download&direct&version=1\n",
      "Resolving files.osf.io (files.osf.io)... 35.186.214.196\n",
      "Connecting to files.osf.io (files.osf.io)|35.186.214.196|:443... connected.\n",
      "HTTP request sent, awaiting response... 200 OK\n",
      "Length: 4622372 (4.4M) [application/octet-stream]\n",
      "Saving to: ‘trump_tweets.txt’\n",
      "\n",
      "trump_tweets.txt    100%[===================>]   4.41M  6.23MB/s    in 0.7s    \n",
      "\n",
      "2020-07-13 19:00:09 (6.23 MB/s) - ‘trump_tweets.txt’ saved [4622372/4622372]\n",
      "\n"
     ]
    }
   ],
   "source": [
    "# !wget -O trump_tweets.txt https://osf.io/jw5ad/download"
   ]
  },
  {
   "cell_type": "code",
   "execution_count": 28,
   "metadata": {},
   "outputs": [
    {
     "data": {
      "text/html": [
       "<div>\n",
       "<style scoped>\n",
       "    .dataframe tbody tr th:only-of-type {\n",
       "        vertical-align: middle;\n",
       "    }\n",
       "\n",
       "    .dataframe tbody tr th {\n",
       "        vertical-align: top;\n",
       "    }\n",
       "\n",
       "    .dataframe thead th {\n",
       "        text-align: right;\n",
       "    }\n",
       "</style>\n",
       "<table border=\"1\" class=\"dataframe\">\n",
       "  <thead>\n",
       "    <tr style=\"text-align: right;\">\n",
       "      <th></th>\n",
       "      <th>STATUSID</th>\n",
       "      <th>DATE</th>\n",
       "      <th>TIME</th>\n",
       "      <th>SOURCE</th>\n",
       "      <th>Retweet</th>\n",
       "      <th>Favourite</th>\n",
       "      <th>TWEETS</th>\n",
       "    </tr>\n",
       "  </thead>\n",
       "  <tbody>\n",
       "    <tr>\n",
       "      <th>0</th>\n",
       "      <td>·      965971586913374208</td>\n",
       "      <td>02-20-2018</td>\n",
       "      <td>15:29:07</td>\n",
       "      <td>Twitter for iPhone</td>\n",
       "      <td>19693</td>\n",
       "      <td>79159</td>\n",
       "      <td>1.     ....cameras running. Another False Accu...</td>\n",
       "    </tr>\n",
       "    <tr>\n",
       "      <th>1</th>\n",
       "      <td>·      965968309358333952</td>\n",
       "      <td>02-20-2018</td>\n",
       "      <td>15:16:06</td>\n",
       "      <td>Twitter for iPhone</td>\n",
       "      <td>21676</td>\n",
       "      <td>96352</td>\n",
       "      <td>2.     A woman I don’t know and, to the best o...</td>\n",
       "    </tr>\n",
       "    <tr>\n",
       "      <th>2</th>\n",
       "      <td>·      965943827931549696</td>\n",
       "      <td>02-20-2018</td>\n",
       "      <td>13:38:49</td>\n",
       "      <td>Twitter for iPhone</td>\n",
       "      <td>16216</td>\n",
       "      <td>77951</td>\n",
       "      <td>3.     I have been much tougher on Russia than...</td>\n",
       "    </tr>\n",
       "    <tr>\n",
       "      <th>3</th>\n",
       "      <td>·      965937068907073536</td>\n",
       "      <td>02-20-2018</td>\n",
       "      <td>13:11:58</td>\n",
       "      <td>Twitter for iPhone</td>\n",
       "      <td>20211</td>\n",
       "      <td>79178</td>\n",
       "      <td>4.     Hope Republicans in the Great State of ...</td>\n",
       "    </tr>\n",
       "    <tr>\n",
       "      <th>4</th>\n",
       "      <td>·      965935035328155649</td>\n",
       "      <td>02-20-2018</td>\n",
       "      <td>13:03:53</td>\n",
       "      <td>Twitter for iPhone</td>\n",
       "      <td>10176</td>\n",
       "      <td>51701</td>\n",
       "      <td>5.     Matt Schlapp and CPAC are getting ready...</td>\n",
       "    </tr>\n",
       "  </tbody>\n",
       "</table>\n",
       "</div>"
      ],
      "text/plain": [
       "                    STATUSID        DATE      TIME              SOURCE  \\\n",
       "0  ·      965971586913374208  02-20-2018  15:29:07  Twitter for iPhone   \n",
       "1  ·      965968309358333952  02-20-2018  15:16:06  Twitter for iPhone   \n",
       "2  ·      965943827931549696  02-20-2018  13:38:49  Twitter for iPhone   \n",
       "3  ·      965937068907073536  02-20-2018  13:11:58  Twitter for iPhone   \n",
       "4  ·      965935035328155649  02-20-2018  13:03:53  Twitter for iPhone   \n",
       "\n",
       "   Retweet  Favourite                                             TWEETS  \n",
       "0    19693      79159  1.     ....cameras running. Another False Accu...  \n",
       "1    21676      96352  2.     A woman I don’t know and, to the best o...  \n",
       "2    16216      77951  3.     I have been much tougher on Russia than...  \n",
       "3    20211      79178  4.     Hope Republicans in the Great State of ...  \n",
       "4    10176      51701  5.     Matt Schlapp and CPAC are getting ready...  "
      ]
     },
     "execution_count": 28,
     "metadata": {},
     "output_type": "execute_result"
    }
   ],
   "source": [
    "trump_tweets = pd.read_csv('trump_tweets.txt', sep='\\t')\n",
    "trump_tweets.head()"
   ]
  },
  {
   "cell_type": "code",
   "execution_count": 83,
   "metadata": {},
   "outputs": [],
   "source": [
    "unescape_html = lambda x: BeautifulSoup(x).get_text().strip()\n",
    "\n",
    "remove_urls = lambda x: re.sub(\"http(.+)?(\\W|$)\", ' ', x)\n",
    "\n",
    "normalize_spaces = lambda x: re.sub(\"[\\n\\r\\t ]+\", ' ', x)\n",
    "\n",
    "remove_leading_digits = lambda x: re.sub(\"\\d+\\.\", \"\", x)"
   ]
  },
  {
   "cell_type": "code",
   "execution_count": 85,
   "metadata": {},
   "outputs": [],
   "source": [
    "def preprocess(x):\n",
    "    x = remove_leading_digits(x)\n",
    "    x = unescape_html(x)\n",
    "    x = remove_urls(x)\n",
    "    x = normalize_spaces(x)\n",
    "    \n",
    "    return x.strip()"
   ]
  },
  {
   "cell_type": "code",
   "execution_count": 86,
   "metadata": {},
   "outputs": [],
   "source": [
    "trump_tweets['text'] = trump_tweets.TWEETS.apply(preprocess)"
   ]
  },
  {
   "cell_type": "code",
   "execution_count": 89,
   "metadata": {},
   "outputs": [],
   "source": [
    "trump_doc = nlp('\\n'.join(trump_tweets.head(2000).text.values))"
   ]
  },
  {
   "cell_type": "markdown",
   "metadata": {},
   "source": [
    "what are the most common words?"
   ]
  },
  {
   "cell_type": "code",
   "execution_count": 90,
   "metadata": {},
   "outputs": [
    {
     "data": {
      "text/plain": [
       "[('great', 481),\n",
       " ('people', 188),\n",
       " ('big', 181),\n",
       " ('news', 176),\n",
       " ('thank', 163),\n",
       " ('america', 162),\n",
       " ('fake', 156),\n",
       " ('tax', 151),\n",
       " ('country', 144),\n",
       " ('year', 142)]"
      ]
     },
     "execution_count": 90,
     "metadata": {},
     "output_type": "execute_result"
    }
   ],
   "source": [
    "Counter(map(lambda x:x.lemma_.lower(), \n",
    "            filter(lambda x: not (x.is_stop or x.is_punct or x.is_space),\n",
    "                trump_doc))).most_common(10)"
   ]
  },
  {
   "cell_type": "code",
   "execution_count": 91,
   "metadata": {},
   "outputs": [
    {
     "data": {
      "text/plain": [
       "{'CARDINAL',\n",
       " 'DATE',\n",
       " 'EVENT',\n",
       " 'FAC',\n",
       " 'GPE',\n",
       " 'LANGUAGE',\n",
       " 'LAW',\n",
       " 'LOC',\n",
       " 'MONEY',\n",
       " 'NORP',\n",
       " 'ORDINAL',\n",
       " 'ORG',\n",
       " 'PERCENT',\n",
       " 'PERSON',\n",
       " 'PRODUCT',\n",
       " 'QUANTITY',\n",
       " 'TIME',\n",
       " 'WORK_OF_ART'}"
      ]
     },
     "execution_count": 91,
     "metadata": {},
     "output_type": "execute_result"
    }
   ],
   "source": [
    "set([w.label_ for w in trump_doc.ents])"
   ]
  },
  {
   "cell_type": "code",
   "execution_count": 92,
   "metadata": {},
   "outputs": [
    {
     "data": {
      "text/plain": [
       "{'@geraldorivera',\n",
       " '@secretaryperry',\n",
       " '@usembassyfrance',\n",
       " 'afghanistan',\n",
       " 'alabama',\n",
       " 'alaska',\n",
       " 'alexandria',\n",
       " 'america',\n",
       " 'aramco',\n",
       " 'argentina',\n",
       " 'arizona',\n",
       " 'arlington',\n",
       " 'atlanta',\n",
       " 'australia',\n",
       " 'az',\n",
       " 'bahrain',\n",
       " 'barcelona',\n",
       " 'bedminster',\n",
       " 'beijing',\n",
       " 'beirut',\n",
       " 'belgium',\n",
       " 'boston',\n",
       " 'broward county',\n",
       " 'brussels',\n",
       " 'building military',\n",
       " 'california',\n",
       " 'canada',\n",
       " 'charlottesville',\n",
       " 'chicago',\n",
       " 'china',\n",
       " 'cincinnati',\n",
       " 'colombia',\n",
       " 'connecticut',\n",
       " 'crimea',\n",
       " 'd.c.',\n",
       " 'da nang',\n",
       " 'dallas',\n",
       " 'davos',\n",
       " 'dem c.m.',\n",
       " 'douglas county @dcsheriff',\n",
       " 'dupont',\n",
       " 'egypt',\n",
       " 'europes',\n",
       " 'fl',\n",
       " 'florida',\n",
       " 'forbidden city',\n",
       " 'fort myer',\n",
       " 'france',\n",
       " 'georgia',\n",
       " 'germany',\n",
       " 'greece',\n",
       " 'haiti',\n",
       " 'hamburg',\n",
       " 'hanoi',\n",
       " 'harrisburg',\n",
       " 'hawaii',\n",
       " 'hollywood',\n",
       " 'houston',\n",
       " 'huntington',\n",
       " 'huntsville',\n",
       " 'india',\n",
       " 'indiana',\n",
       " 'indianapolis',\n",
       " 'iowa',\n",
       " 'iran',\n",
       " 'iraq',\n",
       " 'israel',\n",
       " 'italy',\n",
       " 'jamaica',\n",
       " 'japan',\n",
       " 'jefferson',\n",
       " 'jerusalem',\n",
       " 'kabul',\n",
       " 'kansas',\n",
       " 'kazakhstan',\n",
       " 'kentucky',\n",
       " 'korea',\n",
       " 'kuwait',\n",
       " 'l.a.',\n",
       " 'la',\n",
       " 'lake worth',\n",
       " 'lamar',\n",
       " 'las vegas',\n",
       " 'lebanon',\n",
       " 'london',\n",
       " 'long island',\n",
       " 'lottery',\n",
       " 'louisiana',\n",
       " 'maine',\n",
       " 'malaysia',\n",
       " 'manchester',\n",
       " 'mandan',\n",
       " 'mexico',\n",
       " 'mexico city',\n",
       " 'miami',\n",
       " 'michigan',\n",
       " 'middle class',\n",
       " 'milwaukee',\n",
       " 'mississippi',\n",
       " 'missouri',\n",
       " 'montana',\n",
       " 'montgomery',\n",
       " 'moscow',\n",
       " 'ms',\n",
       " 'n. korea',\n",
       " 'n.j.',\n",
       " 'n.y.c.',\n",
       " 'nationalpoliceweekwatch',\n",
       " 'nd',\n",
       " 'new jersey',\n",
       " 'new york',\n",
       " 'new york city',\n",
       " 'new york operation',\n",
       " 'nice',\n",
       " 'nj',\n",
       " 'norfolk',\n",
       " 'north dakota',\n",
       " 'north korea',\n",
       " 'norway',\n",
       " 'nyc',\n",
       " 'ohio',\n",
       " 'p.r.',\n",
       " 'pakistan',\n",
       " 'panama',\n",
       " 'paris',\n",
       " 'parkland',\n",
       " 'penn',\n",
       " 'pennsylvania',\n",
       " 'pensacola',\n",
       " 'philippines',\n",
       " 'phillipines',\n",
       " 'phoenix',\n",
       " 'pittsburgh',\n",
       " 'poland',\n",
       " 'puerto rico',\n",
       " 'qatar',\n",
       " 'quantico',\n",
       " 'rally',\n",
       " 'riviera beach',\n",
       " 'riyadh',\n",
       " 'russia',\n",
       " 's.c.',\n",
       " 'san francisco',\n",
       " 'san juan',\n",
       " 'san juan mayor',\n",
       " 'sanctuary',\n",
       " 'saudi arabia',\n",
       " 'search',\n",
       " 'singapore',\n",
       " 'skorea',\n",
       " 'south carolina',\n",
       " 'south korea',\n",
       " 'spain',\n",
       " 'st. charles',\n",
       " 'states',\n",
       " 'sterling',\n",
       " 'strong border',\n",
       " 'sutherland springs',\n",
       " 'switzerland',\n",
       " 'syria',\n",
       " 'taormina',\n",
       " 'tel aviv',\n",
       " 'tennesse',\n",
       " 'tennessee',\n",
       " 'texas',\n",
       " 'the great state',\n",
       " 'the great state of alabama',\n",
       " 'the great state of alaska',\n",
       " 'the great state of kansas',\n",
       " 'the great state of north carolina',\n",
       " 'the great state of ohio',\n",
       " 'the great state of pennsylvania',\n",
       " 'the great state of tennessee',\n",
       " 'the great states',\n",
       " 'the middle class',\n",
       " 'the republic of korea',\n",
       " 'the u. k.',\n",
       " 'the u.s. dept',\n",
       " 'the u.s. virgin islands',\n",
       " 'the united kingdom',\n",
       " 'the united states',\n",
       " 'the united states of america',\n",
       " 'the#uswomensopen',\n",
       " 'tokyo',\n",
       " 'turkey',\n",
       " 'tx',\n",
       " 'u.k.',\n",
       " 'u.s.',\n",
       " 'u.s.a',\n",
       " 'u.s.a.',\n",
       " 'uk',\n",
       " 'ukraine',\n",
       " 'united kingdom',\n",
       " 'united states',\n",
       " 'us',\n",
       " 'usa',\n",
       " 'uss monterey',\n",
       " 'utah',\n",
       " 'v.a.',\n",
       " 'v.a. bill',\n",
       " 'va',\n",
       " 'venezuela',\n",
       " 'vets',\n",
       " 'vietnam',\n",
       " 'virginia',\n",
       " 'wall',\n",
       " 'washington',\n",
       " 'washington state',\n",
       " 'west virginia',\n",
       " 'whitewater',\n",
       " 'wisconsin',\n",
       " 'you!god',\n",
       " 'youngstown',\n",
       " 'yuma'}"
      ]
     },
     "execution_count": 92,
     "metadata": {},
     "output_type": "execute_result"
    }
   ],
   "source": [
    "set([ent.text.lower() for ent in trump_doc.ents if ent.label_ == 'GPE'])"
   ]
  },
  {
   "cell_type": "code",
   "execution_count": 94,
   "metadata": {},
   "outputs": [],
   "source": [
    "GPE_counts = Counter(ent.lemma_.lower() for ent in trump_doc.ents if ent.label_ == 'GPE')"
   ]
  },
  {
   "cell_type": "code",
   "execution_count": null,
   "metadata": {},
   "outputs": [],
   "source": []
  },
  {
   "cell_type": "code",
   "execution_count": 95,
   "metadata": {},
   "outputs": [
    {
     "data": {
      "text/plain": [
       "[('america', 127),\n",
       " ('u.s.', 79),\n",
       " ('russia', 53),\n",
       " ('china', 49),\n",
       " ('north korea', 47),\n",
       " ('the united states', 31),\n",
       " ('puerto rico', 27),\n",
       " ('florida', 26),\n",
       " ('alabama', 25),\n",
       " ('usa', 21)]"
      ]
     },
     "execution_count": 95,
     "metadata": {},
     "output_type": "execute_result"
    }
   ],
   "source": [
    "GPE_counts.most_common(10)"
   ]
  },
  {
   "cell_type": "code",
   "execution_count": 96,
   "metadata": {},
   "outputs": [
    {
     "data": {
      "text/plain": [
       "[('montgomery', 1),\n",
       " ('alexandria', 1),\n",
       " ('@usembassyfrance', 1),\n",
       " ('sanctuary', 1),\n",
       " ('the great state of alaska', 1),\n",
       " ('fort myer', 1),\n",
       " ('norfolk', 1),\n",
       " ('l.a.', 1),\n",
       " ('skorea', 1),\n",
       " ('forbid city', 1)]"
      ]
     },
     "execution_count": 96,
     "metadata": {},
     "output_type": "execute_result"
    }
   ],
   "source": [
    "# shithole countries\n",
    "GPE_counts.most_common()[::-1][:10]"
   ]
  },
  {
   "cell_type": "code",
   "execution_count": 97,
   "metadata": {},
   "outputs": [],
   "source": [
    "ORG_counts = Counter(ent.lemma_.lower() for ent in trump_doc.ents if ent.label_ == 'ORG')"
   ]
  },
  {
   "cell_type": "code",
   "execution_count": 98,
   "metadata": {},
   "outputs": [
    {
     "data": {
      "text/plain": [
       "[('🇸', 77),\n",
       " ('fbi', 49),\n",
       " ('obamacare', 48),\n",
       " ('senate', 43),\n",
       " ('congress', 38),\n",
       " ('trump', 35),\n",
       " ('fake news', 31),\n",
       " ('the fake news', 26),\n",
       " ('healthcare', 25),\n",
       " ('nfl', 23)]"
      ]
     },
     "execution_count": 98,
     "metadata": {},
     "output_type": "execute_result"
    }
   ],
   "source": [
    "ORG_counts.most_common(10)"
   ]
  },
  {
   "cell_type": "code",
   "execution_count": 100,
   "metadata": {},
   "outputs": [],
   "source": [
    "def sentences_w_entity_regex(trump_doc, pattern):\n",
    "    for entity in trump_doc.ents:\n",
    "        if re.match(pattern, entity.string):\n",
    "            yield entity.sent"
   ]
  },
  {
   "cell_type": "code",
   "execution_count": 101,
   "metadata": {},
   "outputs": [
    {
     "name": "stdout",
     "output_type": "stream",
     "text": [
      "I have been much tougher on Russia than Obama, just look at the facts.\n",
      "Big difference from those days when President Obama held the White House.\n",
      "The President Obama quote just before election.\n",
      "Obama was President up to, and beyond, the 2016 Election.\n",
      "Now that Adam Schiff is starting to blame President Obama for Russian meddling in the election, he is probably doing so as yet another excuse that the Democrats, lead by their fearless leader, Crooked Hillary Clinton, lost the 2016 election.\n",
      "Obama was President, knew of the threat, and did nothing.\n",
      "Never gotten over the fact that Obama was able to send $7 Billion Dollars in CASH to Iran and nobody in Congress, the FBI or Justice called for an investigation!\n",
      "“President Trump reversed the policies of President Obama, and reversed our economic decline.”\n",
      "While the Fake News loves to talk about my so-called low approval rating, @foxandfriends just showed that my rating on Dec. 28, 2017, was approximately the same as President Obama on Dec. 28, 2009, which was 47%...and\n",
      "Based on the fact that the very unfair and unpopular Individual Mandate has been terminated as part of our Tax Cut Bill, which essentially Repeals (over time) ObamaCare, the Democrats & Republicans will eventually come together and develop a great new HealthCare plan!\n"
     ]
    }
   ],
   "source": [
    "for sentence in islice(sentences_w_entity_regex(trump_doc, re.compile(\"obama\", re.I)), 10):\n",
    "    print(sentence.text.strip())"
   ]
  },
  {
   "cell_type": "code",
   "execution_count": 102,
   "metadata": {},
   "outputs": [
    {
     "name": "stdout",
     "output_type": "stream",
     "text": [
      "That’s because he thought Crooked Hillary was going to win\n",
      "Now that Adam Schiff is starting to blame President Obama for Russian meddling in the election, he is probably doing so as yet another excuse that the Democrats, lead by their fearless leader, Crooked Hillary Clinton, lost the 2016 election.\n",
      "General McMaster forgot to say that the results of the 2016 election were not impacted or changed by the Russians and that the only Collusion was between Russia and Crooked H, the DNC and the Dems.\n",
      "All tied into Crooked Hillary.\n",
      "Many people in our Country are asking what the “Justice” Department is going to do about the fact that totally Crooked Hillary, AFTER receiving a subpoena from the United States Congress, deleted and “acid washed” 33,000 Emails?\n",
      "So General Flynn lies to the FBI and his life is destroyed, while Crooked Hillary Clinton, on that now famous FBI holiday “interrogation” with no swearing in and no recording, lies many times...and nothing happens to her?\n",
      "“Had the information (Crooked Hillary’s emails) been released there would have been harm to National Security....\n",
      "Does the Fake News Media remember when Crooked Hillary Clinton, as Secretary of State, was begging Russia to be our friend with the misspelled reset button?\n",
      "Bernie Sanders supporters have every right to be apoplectic of the complete theft of the Dem primary by Crooked Hillary!\n",
      "...\n",
      "Pocahontas just stated that the Democrats, lead by the legendary Crooked Hillary Clinton, rigged the Primaries!\n"
     ]
    }
   ],
   "source": [
    "for sentence in islice(sentences_w_entity_regex(trump_doc, re.compile(\"crooked\", re.I)), 10):\n",
    "    print(sentence.text.strip())"
   ]
  },
  {
   "cell_type": "code",
   "execution_count": 215,
   "metadata": {},
   "outputs": [],
   "source": [
    "def locations(needle, haystack): \n",
    "    return pd.Series(np.histogram(\n",
    "        [word.i for word in haystack \n",
    "         if needle == word.text.lower().strip()], bins=50)[0])"
   ]
  },
  {
   "cell_type": "code",
   "execution_count": 216,
   "metadata": {},
   "outputs": [
    {
     "data": {
      "image/png": "[encoded data removed]",
      "text/plain": [
       "<Figure size 1440x720 with 4 Axes>"
      ]
     },
     "metadata": {
      "needs_background": "light"
     },
     "output_type": "display_data"
    }
   ],
   "source": [
    "_ = pd.DataFrame(\n",
    "    {name: locations(name.lower(), trump_doc) \n",
    "     for name in ['China', 'Russia', 'America', 'Korea']}\n",
    ").plot(subplots=True, figsize=(20, 10))"
   ]
  },
  {
   "cell_type": "code",
   "execution_count": 217,
   "metadata": {},
   "outputs": [
    {
     "data": {
      "text/plain": [
       "array(['Twitter for iPhone', 'Twitter for iPad', 'Media Studio',\n",
       "       'Twitter Web Client', 'Twitter Ads', 'Twitter for Android',\n",
       "       'Periscope', 'TweetDeck', 'Instagram', 'Twitter Mirror for iPad',\n",
       "       'Twitter QandA', 'Facebook', 'Twitter for BlackBerry',\n",
       "       'Neatly For BlackBerry 10', 'Mobile Web (M5)',\n",
       "       'Twitter for Websites', 'Twitlonger', 'Vine - Make a Scene',\n",
       "       'TwitLonger Beta'], dtype=object)"
      ]
     },
     "execution_count": 217,
     "metadata": {},
     "output_type": "execute_result"
    }
   ],
   "source": [
    "trump_tweets.SOURCE.unique()"
   ]
  },
  {
   "cell_type": "code",
   "execution_count": 218,
   "metadata": {},
   "outputs": [
    {
     "data": {
      "text/plain": [
       "{84: 'ADJ',\n",
       " 85: 'ADP',\n",
       " 86: 'ADV',\n",
       " 87: 'AUX',\n",
       " 89: 'CCONJ',\n",
       " 90: 'DET',\n",
       " 91: 'INTJ',\n",
       " 92: 'NOUN',\n",
       " 93: 'NUM',\n",
       " 94: 'PART',\n",
       " 95: 'PRON',\n",
       " 96: 'PROPN',\n",
       " 97: 'PUNCT',\n",
       " 98: 'SCONJ',\n",
       " 99: 'SYM',\n",
       " 100: 'VERB',\n",
       " 101: 'X',\n",
       " 103: 'SPACE'}"
      ]
     },
     "execution_count": 218,
     "metadata": {},
     "output_type": "execute_result"
    }
   ],
   "source": [
    "# Make a quick-and-dirty lookup table of POS IDs, \n",
    "# since the default representation of a POS is numeric. \n",
    "tagDict = {w.pos: w.pos_ for w in iphone_tweets} \n",
    "tagDict"
   ]
  },
  {
   "cell_type": "code",
   "execution_count": 219,
   "metadata": {},
   "outputs": [
    {
     "data": {
      "text/plain": [
       "<matplotlib.axes._subplots.AxesSubplot at 0x7f2e81dd15c0>"
      ]
     },
     "execution_count": 219,
     "metadata": {},
     "output_type": "execute_result"
    },
    {
     "data": {
      "image/png": "[encoded data removed]",
      "text/plain": [
       "<Figure size 1440x720 with 1 Axes>"
      ]
     },
     "metadata": {
      "needs_background": "light"
     },
     "output_type": "display_data"
    }
   ],
   "source": [
    "media_tweets = trump_doc = nlp('\\n'.join(trump_tweets[trump_tweets.SOURCE=='Media Studio'].head(2000).text.values))\n",
    "android_tweets = trump_doc = nlp('\\n'.join(trump_tweets[trump_tweets.SOURCE=='Twitter for Android'].head(2000).text.values))\n",
    "\n",
    "media_tweetsPOS = pd.Series(media_tweets.count_by(spacy.attrs.POS))/len(media_tweets)\n",
    "android_tweetsPOS = pd.Series(android_tweets.count_by(spacy.attrs.POS))/len(android_tweets)\n",
    "\n",
    "df = pd.DataFrame([media_tweetsPOS, android_tweetsPOS], index=['media', 'android'])\n",
    "df.columns = [tagDict[column] for column in df.columns]\n",
    "df.T.plot(kind='bar', figsize=(20, 10))"
   ]
  },
  {
   "cell_type": "code",
   "execution_count": 220,
   "metadata": {},
   "outputs": [],
   "source": [
    "def verbObjects(doc, verb):\n",
    "    verb_objects = list()\n",
    "    for tok in doc:\n",
    "        if tok.pos_.startswith('V') and tok.lemma_.lower()==verb:\n",
    "            for child in tok.children:\n",
    "                if child.dep_ in ['xcomp', 'dobj', 'ccomp']:\n",
    "                    verb_objects.append(''.join(i.string for i in child.subtree).strip())\n",
    "    return Counter(verb_objects).most_common(10)\n",
    "        "
   ]
  },
  {
   "cell_type": "code",
   "execution_count": 221,
   "metadata": {},
   "outputs": [
    {
     "data": {
      "text/plain": [
       "[('AMERICA GREAT', 67),\n",
       " ('America', 6),\n",
       " ('AMERICA SAFE AND', 5),\n",
       " ('AMERICA SAFE', 4),\n",
       " ('America Great', 3),\n",
       " ('so many mistakes', 3),\n",
       " ('AMERICA SAFE & GREAT', 2),\n",
       " ('Great', 2),\n",
       " ('a big speech', 2),\n",
       " ('kooky Cokie Roberts', 1)]"
      ]
     },
     "execution_count": 221,
     "metadata": {},
     "output_type": "execute_result"
    }
   ],
   "source": [
    "verbObjects(android_tweets, 'make')"
   ]
  },
  {
   "cell_type": "code",
   "execution_count": 222,
   "metadata": {},
   "outputs": [
    {
     "data": {
      "text/plain": [
       "[('AMERICA GREAT', 3),\n",
       " (\"a fortune w/ O'Care\", 1),\n",
       " ('an announcement on #TaxReform', 1),\n",
       " ('America', 1)]"
      ]
     },
     "execution_count": 222,
     "metadata": {},
     "output_type": "execute_result"
    }
   ],
   "source": [
    "verbObjects(media_tweets, 'make')"
   ]
  },
  {
   "cell_type": "code",
   "execution_count": 226,
   "metadata": {},
   "outputs": [],
   "source": [
    "def characterAdjectives(text, character):\n",
    "    adjectives = []\n",
    "    for word in text: \n",
    "        if character in word.string:\n",
    "            for child in word.children: \n",
    "                if child.pos_ == 'ADJ': \n",
    "                    adjectives.append(child.string.strip())\n",
    "    return Counter(adjectives).most_common(10)"
   ]
  },
  {
   "cell_type": "code",
   "execution_count": 227,
   "metadata": {},
   "outputs": [
    {
     "data": {
      "text/plain": [
       "[('Crooked', 18), ('worst', 1), ('-', 1)]"
      ]
     },
     "execution_count": 227,
     "metadata": {},
     "output_type": "execute_result"
    }
   ],
   "source": [
    "characterAdjectives(android_tweets, 'Hillary')"
   ]
  },
  {
   "cell_type": "code",
   "execution_count": 228,
   "metadata": {},
   "outputs": [
    {
     "data": {
      "text/plain": [
       "[]"
      ]
     },
     "execution_count": 228,
     "metadata": {},
     "output_type": "execute_result"
    }
   ],
   "source": [
    "characterAdjectives(media_tweets, 'Hillary')"
   ]
  },
  {
   "cell_type": "code",
   "execution_count": null,
   "metadata": {},
   "outputs": [],
   "source": []
  }
 ],
 "metadata": {
  "kernelspec": {
   "display_name": "Python 3",
   "language": "python",
   "name": "python3"
  },
  "language_info": {
   "codemirror_mode": {
    "name": "ipython",
    "version": 3
   },
   "file_extension": ".py",
   "mimetype": "text/x-python",
   "name": "python",
   "nbconvert_exporter": "python",
   "pygments_lexer": "ipython3",
   "version": "3.5.2"
  }
 },
 "nbformat": 4,
 "nbformat_minor": 4
}
